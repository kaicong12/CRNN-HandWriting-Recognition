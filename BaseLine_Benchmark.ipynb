{
  "cells": [
    {
      "cell_type": "markdown",
      "metadata": {
        "id": "view-in-github",
        "colab_type": "text"
      },
      "source": [
        "<a href=\"https://colab.research.google.com/github/kaicong12/CRNN-HandWriting-Recognition/blob/main/BaseLine_Benchmark.ipynb\" target=\"_parent\"><img src=\"https://colab.research.google.com/assets/colab-badge.svg\" alt=\"Open In Colab\"/></a>"
      ]
    },
    {
      "cell_type": "code",
      "execution_count": 1,
      "metadata": {
        "id": "VnS3m0qS9624",
        "colab": {
          "base_uri": "https://localhost:8080/"
        },
        "outputId": "c7fea640-44c7-445b-9e20-28fb66281f6f",
        "pycharm": {
          "name": "#%%\n"
        }
      },
      "outputs": [
        {
          "output_type": "stream",
          "name": "stdout",
          "text": [
            "Drive already mounted at /content/gdrive; to attempt to forcibly remount, call drive.mount(\"/content/gdrive\", force_remount=True).\n"
          ]
        }
      ],
      "source": [
        "from google.colab import drive\n",
        "\n",
        "drive.mount('/content/gdrive')"
      ]
    },
    {
      "cell_type": "code",
      "execution_count": 2,
      "metadata": {
        "id": "3DZgoSwrI2p7",
        "pycharm": {
          "name": "#%%\n"
        }
      },
      "outputs": [],
      "source": [
        "!mkdir -p words xml HTR_Using_CRNN/Model"
      ]
    },
    {
      "cell_type": "code",
      "execution_count": 3,
      "metadata": {
        "id": "BBMP2UJhHTKX",
        "pycharm": {
          "name": "#%%\n"
        },
        "outputId": "a9c31085-e2fc-47d3-a2b1-0cffa044d9ea",
        "colab": {
          "base_uri": "https://localhost:8080/"
        }
      },
      "outputs": [
        {
          "output_type": "stream",
          "name": "stdout",
          "text": [
            "replace /content/Real_HandWriting/__MACOSX/._Real_HandWriting? [y]es, [n]o, [A]ll, [N]one, [r]ename: A\n"
          ]
        }
      ],
      "source": [
        "!tar -xzf  \"/content/gdrive/MyDrive/Colab Notebooks/words.tgz\" -C \"/content/words/\"\n",
        "!tar -xzf  \"/content/gdrive/MyDrive/Colab Notebooks/xml.tgz\" -C \"/content/xml/\"\n",
        "!unzip -qq \"/content/gdrive/MyDrive/Colab Notebooks/Real_HandWriting.zip\" -d \"/content/Real_HandWriting\""
      ]
    },
    {
      "cell_type": "markdown",
      "metadata": {
        "id": "kfNdezF8eE-v",
        "pycharm": {
          "name": "#%% md\n"
        }
      },
      "source": [
        "# Data Preprocessing"
      ]
    },
    {
      "cell_type": "code",
      "execution_count": 5,
      "metadata": {
        "id": "j64a_aB0fhMa",
        "pycharm": {
          "name": "#%%\n"
        }
      },
      "outputs": [],
      "source": [
        "import numpy as np\n",
        "import cv2\n",
        "import os\n",
        "import os.path as osp\n",
        "import pandas as pd\n",
        "import glob\n",
        "import string\n",
        "import matplotlib.pyplot as plt\n",
        "from datetime import datetime\n",
        "import xml.etree.cElementTree as et\n",
        "\n",
        "from keras_preprocessing.sequence import pad_sequences\n",
        "from keras.layers import Dense, LSTM, Reshape, BatchNormalization, Input, Conv2D, MaxPool2D, Lambda, Bidirectional\n",
        "from keras.models import Model\n",
        "import keras.backend as K\n",
        "from keras.callbacks import ModelCheckpoint, EarlyStopping, ReduceLROnPlateau"
      ]
    },
    {
      "cell_type": "code",
      "execution_count": 6,
      "metadata": {
        "id": "JlSrOk_6fmkk",
        "pycharm": {
          "name": "#%%\n"
        }
      },
      "outputs": [],
      "source": [
        "import tensorflow as tf\n",
        "\n",
        "#ignore warnings in the output\n",
        "tf.compat.v1.logging.set_verbosity(tf.compat.v1.logging.ERROR)"
      ]
    },
    {
      "cell_type": "code",
      "execution_count": 7,
      "metadata": {
        "id": "aERRif4hgZ3A",
        "colab": {
          "base_uri": "https://localhost:8080/"
        },
        "outputId": "7b75d037-9f8c-427d-b68a-c89cc1522f68",
        "pycharm": {
          "name": "#%%\n"
        }
      },
      "outputs": [
        {
          "output_type": "stream",
          "name": "stdout",
          "text": [
            "[name: \"/device:CPU:0\"\n",
            "device_type: \"CPU\"\n",
            "memory_limit: 268435456\n",
            "locality {\n",
            "}\n",
            "incarnation: 4083228234435945012\n",
            "xla_global_id: -1\n",
            ", name: \"/device:GPU:0\"\n",
            "device_type: \"GPU\"\n",
            "memory_limit: 14415560704\n",
            "locality {\n",
            "  bus_id: 1\n",
            "  links {\n",
            "  }\n",
            "}\n",
            "incarnation: 8465726319705283339\n",
            "physical_device_desc: \"device: 0, name: Tesla T4, pci bus id: 0000:00:04.0, compute capability: 7.5\"\n",
            "xla_global_id: 416903419\n",
            "]\n",
            "Device mapping:\n",
            "/job:localhost/replica:0/task:0/device:GPU:0 -> device: 0, name: Tesla T4, pci bus id: 0000:00:04.0, compute capability: 7.5\n",
            "\n"
          ]
        }
      ],
      "source": [
        "from tensorflow.python.client import device_lib\n",
        "\n",
        "# Check all available devices if GPU is available\n",
        "print(device_lib.list_local_devices())\n",
        "sess = tf.compat.v1.Session(config=tf.compat.v1.ConfigProto(log_device_placement=True))"
      ]
    },
    {
      "cell_type": "code",
      "execution_count": 8,
      "metadata": {
        "id": "pVYsZ02xggCm",
        "colab": {
          "base_uri": "https://localhost:8080/"
        },
        "outputId": "9f0d0a47-241a-4ec1-c975-9847afd56902",
        "pycharm": {
          "name": "#%%\n"
        }
      },
      "outputs": [
        {
          "output_type": "execute_result",
          "data": {
            "text/plain": [
              "[PhysicalDevice(name='/physical_device:GPU:0', device_type='GPU')]"
            ]
          },
          "metadata": {},
          "execution_count": 8
        }
      ],
      "source": [
        "# This step is to check GPU is available or not.\n",
        "\n",
        "tf.config.experimental.list_physical_devices('GPU')"
      ]
    },
    {
      "cell_type": "code",
      "execution_count": 9,
      "metadata": {
        "id": "Pwculm5ogjrj",
        "colab": {
          "base_uri": "https://localhost:8080/",
          "height": 35
        },
        "outputId": "0c6a3be6-5907-4864-b1a3-231ac8a9274a",
        "pycharm": {
          "name": "#%%\n"
        }
      },
      "outputs": [
        {
          "output_type": "execute_result",
          "data": {
            "text/plain": [
              "'/device:GPU:0'"
            ],
            "application/vnd.google.colaboratory.intrinsic+json": {
              "type": "string"
            }
          },
          "metadata": {},
          "execution_count": 9
        }
      ],
      "source": [
        "tf.test.gpu_device_name()"
      ]
    },
    {
      "cell_type": "code",
      "execution_count": 10,
      "metadata": {
        "id": "Vb-h5wvA8XTF",
        "pycharm": {
          "name": "#%%\n"
        }
      },
      "outputs": [],
      "source": [
        "# dataset related variables\n",
        "SAMPLE_SIZE = 50000\n",
        "MAX_LABEL_LEN = 0\n",
        "CHAR_LIST = \"!\\\"#&'()*+,-./0123456789:;?ABCDEFGHIJKLMNOPQRSTUVWXYZabcdefghijklmnopqrstuvwxyz\"\n",
        "train_images = []\n",
        "train_labels = []\n",
        "train_input_length = []\n",
        "train_label_length = []\n",
        "train_original_text = []\n",
        "\n",
        "valid_images = []\n",
        "valid_labels = []\n",
        "valid_input_length = []\n",
        "valid_label_length = []\n",
        "valid_original_text = []\n",
        "\n",
        "\n",
        "# model related variables\n",
        "BATCH_SIZE = 8\n",
        "EPOCHS = 30\n",
        "E = str(EPOCHS)\n",
        "OPTIMIZER_NAME = 'sgd'"
      ]
    },
    {
      "cell_type": "code",
      "source": [
        "def encode_to_labels(txt):\n",
        "    # encoding each output word into digits\n",
        "    dig_lst = []\n",
        "    for index, chara in enumerate(txt):\n",
        "        dig_lst.append(CHAR_LIST.index(chara))\n",
        "        \n",
        "    return dig_lst"
      ],
      "metadata": {
        "id": "U-GsElk2nJeh",
        "pycharm": {
          "name": "#%%\n"
        }
      },
      "execution_count": 11,
      "outputs": []
    },
    {
      "cell_type": "code",
      "source": [
        "def extract_words_from_directories(xml_dir, png_dir):\n",
        "    words = []\n",
        "    xml_files = os.listdir(xml_dir)\n",
        "\n",
        "    for xml_filename in xml_files:\n",
        "      tree=et.parse(osp.join(xml_dir, xml_filename))\n",
        "      root=tree.getroot()\n",
        "\n",
        "      for word in root.iter('word'):\n",
        "        text_id = word.attrib['id']\n",
        "\n",
        "        splits = text_id.split(\"-\")\n",
        "        split_0 = splits[0]\n",
        "        split_1 = \"-\".join(splits[:2])\n",
        "        split_2 = \"-\".join(splits[2:])\n",
        "\n",
        "        filepath = osp.join(png_dir, split_0, split_1, f\"{text_id}.png\")\n",
        "\n",
        "        # filepath = f\"/content/words/{split_0}/{split_1}/{text_id}.png\"\n",
        "        if not osp.isfile(filepath):\n",
        "          raise Exception(f\"{filepath} not found.\")\n",
        "\n",
        "        words.append({\n",
        "            'id': text_id,\n",
        "            'image_filepath': filepath,\n",
        "            'text': word.attrib['text']\n",
        "        })\n",
        "    \n",
        "    return words\n"
      ],
      "metadata": {
        "id": "YP4azTGrm-og",
        "pycharm": {
          "name": "#%%\n"
        }
      },
      "execution_count": 12,
      "outputs": []
    },
    {
      "cell_type": "code",
      "source": [
        "def process_image(img):\n",
        "      \"\"\"\n",
        "      Converts image to shape (32, 128, 1) & normalize\n",
        "      \"\"\"\n",
        "      w, h = img.shape\n",
        "      \n",
        "      # image thresholding\n",
        "  #     _, img = cv2.threshold(img, \n",
        "  #                            128, \n",
        "  #                            255, \n",
        "  #                            cv2.THRESH_BINARY | cv2.THRESH_OTSU)\n",
        "      \n",
        "      # Aspect Ratio Calculation\n",
        "      new_w = 32\n",
        "      new_h = int(h * (new_w / w))\n",
        "      img = cv2.resize(img, (new_h, new_w))\n",
        "      w, h = img.shape\n",
        "      \n",
        "      img = img.astype('float32')\n",
        "      \n",
        "      # Converts each to (32, 128, 1)\n",
        "      if w < 32:\n",
        "          add_zeros = np.full((32-w, h), 255)\n",
        "          img = np.concatenate((img, add_zeros))\n",
        "          w, h = img.shape\n",
        "\n",
        "      if h < 128:\n",
        "          add_zeros = np.full((w, 128-h), 255)\n",
        "          img = np.concatenate((img, add_zeros), axis=1)\n",
        "          w, h = img.shape\n",
        "          \n",
        "      if h > 128 or w > 32:\n",
        "          dim = (128,32)\n",
        "          img = cv2.resize(img, dim)\n",
        "      \n",
        "      # subtract is to make white pixels black and black pixels white\n",
        "      img = cv2.subtract(255, img)\n",
        "\n",
        "      img = np.expand_dims(img, axis=2)\n",
        "\n",
        "      # Normalize\n",
        "      cv2.normalize(img, dst=None, alpha=0, beta=255, norm_type=cv2.NORM_MINMAX, dtype=cv2.CV_32F)\n",
        "\n",
        "      return img"
      ],
      "metadata": {
        "id": "Td6vrxKynCXS",
        "pycharm": {
          "name": "#%%\n"
        }
      },
      "execution_count": 13,
      "outputs": []
    },
    {
      "cell_type": "code",
      "source": [
        "# read in words and annotations from directory\n",
        "data = extract_words_from_directories(\"/content/xml\", \"/content/words\")"
      ],
      "metadata": {
        "id": "vcVcC-GDnW7i",
        "pycharm": {
          "name": "#%%\n"
        }
      },
      "execution_count": 14,
      "outputs": []
    },
    {
      "cell_type": "code",
      "source": [
        "data[0]"
      ],
      "metadata": {
        "colab": {
          "base_uri": "https://localhost:8080/"
        },
        "id": "GoNwVKWPoDwD",
        "outputId": "8939b541-009d-493d-d73e-6bdb40b8ff20",
        "pycharm": {
          "name": "#%%\n"
        }
      },
      "execution_count": 15,
      "outputs": [
        {
          "output_type": "execute_result",
          "data": {
            "text/plain": [
              "{'id': 'r06-041-00-00',\n",
              " 'image_filepath': '/content/words/r06/r06-041/r06-041-00-00.png',\n",
              " 'text': 'There'}"
            ]
          },
          "metadata": {},
          "execution_count": 15
        }
      ]
    },
    {
      "cell_type": "code",
      "source": [
        "for index, word in enumerate(data):\n",
        "    image_filepath = word['image_filepath']\n",
        "    text = word['text']\n",
        "\n",
        "    # processing on image\n",
        "    img = cv2.imread(image_filepath, cv2.IMREAD_GRAYSCALE)\n",
        "\n",
        "    try:\n",
        "        img = process_image(img)\n",
        "    except:\n",
        "        continue\n",
        "\n",
        "    # processing on label\n",
        "    try:\n",
        "        label = encode_to_labels(text)\n",
        "    except:\n",
        "        continue\n",
        "    \n",
        "    # added this line to prevent error from CTC computation\n",
        "    if len(label) > 31:\n",
        "      continue\n",
        "    \n",
        "    if index % 10 == 0:\n",
        "        valid_images.append(img)\n",
        "        valid_labels.append(label)\n",
        "        valid_input_length.append(31)\n",
        "        valid_label_length.append(len(text))\n",
        "        valid_original_text.append(text)\n",
        "    else:\n",
        "        train_images.append(img)\n",
        "        train_labels.append(label)\n",
        "        train_input_length.append(31)\n",
        "        train_label_length.append(len(text))\n",
        "        train_original_text.append(text)\n",
        "    \n",
        "    if len(text) > MAX_LABEL_LEN:\n",
        "        MAX_LABEL_LEN = len(text)\n",
        "    \n",
        "    if index > SAMPLE_SIZE:\n",
        "        break"
      ],
      "metadata": {
        "id": "F4VIbVCgkWY1",
        "pycharm": {
          "name": "#%%\n"
        }
      },
      "execution_count": 16,
      "outputs": []
    },
    {
      "cell_type": "code",
      "source": [
        "train_padded_label = pad_sequences(train_labels, \n",
        "                             maxlen=MAX_LABEL_LEN, \n",
        "                             padding='post',\n",
        "                             value=len(CHAR_LIST))\n",
        "\n",
        "valid_padded_label = pad_sequences(valid_labels, \n",
        "                             maxlen=MAX_LABEL_LEN, \n",
        "                             padding='post',\n",
        "                             value=len(CHAR_LIST))"
      ],
      "metadata": {
        "id": "5z6wzecWnNsd",
        "pycharm": {
          "name": "#%%\n"
        }
      },
      "execution_count": 17,
      "outputs": []
    },
    {
      "cell_type": "code",
      "source": [
        "train_images = np.asarray(train_images)\n",
        "train_input_length = np.asarray(train_input_length)\n",
        "train_label_length = np.asarray(train_label_length)\n",
        "\n",
        "valid_images = np.asarray(valid_images)\n",
        "valid_input_length = np.asarray(valid_input_length)\n",
        "valid_label_length = np.asarray(valid_label_length)"
      ],
      "metadata": {
        "id": "aFsRsuayoSCX",
        "pycharm": {
          "name": "#%%\n"
        }
      },
      "execution_count": 18,
      "outputs": []
    },
    {
      "cell_type": "code",
      "source": [
        "train_images.shape, valid_images.shape"
      ],
      "metadata": {
        "colab": {
          "base_uri": "https://localhost:8080/"
        },
        "id": "jQDCbG_MrFp9",
        "outputId": "4d339558-6245-450a-9025-cc596f287a1d",
        "pycharm": {
          "name": "#%%\n"
        }
      },
      "execution_count": 19,
      "outputs": [
        {
          "output_type": "execute_result",
          "data": {
            "text/plain": [
              "((44990, 32, 128, 1), (5001, 32, 128, 1))"
            ]
          },
          "metadata": {},
          "execution_count": 19
        }
      ]
    },
    {
      "cell_type": "markdown",
      "source": [
        "# Model building"
      ],
      "metadata": {
        "id": "X-ZaDkNPoduV",
        "pycharm": {
          "name": "#%% md\n"
        }
      }
    },
    {
      "cell_type": "code",
      "source": [
        "# input with shape of height=32 and width=128 \n",
        "inputs = Input(shape=(32,128,1))\n",
        " \n",
        "# convolution layer with kernel size (3,3)\n",
        "conv_1 = Conv2D(64, (3,3), activation = 'relu', padding='same')(inputs)\n",
        "# poolig layer with kernel size (2,2)\n",
        "pool_1 = MaxPool2D(pool_size=(2, 2), strides=2)(conv_1)\n",
        " \n",
        "conv_2 = Conv2D(128, (3,3), activation = 'relu', padding='same')(pool_1)\n",
        "pool_2 = MaxPool2D(pool_size=(2, 2), strides=2)(conv_2)\n",
        " \n",
        "conv_3 = Conv2D(256, (3,3), activation = 'relu', padding='same')(pool_2)\n",
        " \n",
        "conv_4 = Conv2D(256, (3,3), activation = 'relu', padding='same')(conv_3)\n",
        "\n",
        "# poolig layer with kernel size (2,1)\n",
        "pool_4 = MaxPool2D(pool_size=(2, 1))(conv_4)\n",
        " \n",
        "conv_5 = Conv2D(512, (3,3), activation = 'relu', padding='same')(pool_4)\n",
        "\n",
        "# Batch normalization layer\n",
        "batch_norm_5 = BatchNormalization()(conv_5)\n",
        " \n",
        "conv_6 = Conv2D(512, (3,3), activation = 'relu', padding='same')(batch_norm_5)\n",
        "batch_norm_6 = BatchNormalization()(conv_6)\n",
        "pool_6 = MaxPool2D(pool_size=(2, 1))(batch_norm_6)\n",
        " \n",
        "conv_7 = Conv2D(512, (2,2), activation = 'relu')(pool_6)\n",
        " \n",
        "squeezed = Lambda(lambda x: K.squeeze(x, 1))(conv_7)\n",
        " \n",
        "# bidirectional LSTM layers with units=128\n",
        "blstm_1 = Bidirectional(LSTM(256, return_sequences=True, dropout = 0.2))(squeezed)\n",
        "blstm_2 = Bidirectional(LSTM(256, return_sequences=True, dropout = 0.2))(blstm_1)\n",
        " \n",
        "outputs = Dense(len(CHAR_LIST)+1, activation = 'softmax')(blstm_2)\n",
        "\n",
        "# model to be used at test time\n",
        "act_model = Model(inputs, outputs)"
      ],
      "metadata": {
        "id": "MmYMMOnjocKB",
        "pycharm": {
          "name": "#%%\n"
        }
      },
      "execution_count": 20,
      "outputs": []
    },
    {
      "cell_type": "code",
      "source": [
        "the_labels = Input(name='the_labels', shape=[MAX_LABEL_LEN], dtype='float32')\n",
        "input_length = Input(name='input_length', shape=[1], dtype='int64')\n",
        "label_length = Input(name='label_length', shape=[1], dtype='int64')\n",
        "\n",
        "def ctc_lambda_func(args):\n",
        "    y_pred, labels, input_length, label_length = args\n",
        "    \n",
        "    return K.ctc_batch_cost(labels, y_pred, input_length, label_length)\n",
        "\n",
        "loss_out = Lambda(ctc_lambda_func, output_shape=(1,), name='ctc')([outputs, the_labels, input_length, label_length])\n",
        "\n",
        "#model to be used at training time\n",
        "model = Model(inputs=[inputs, the_labels, input_length, label_length], outputs=loss_out)"
      ],
      "metadata": {
        "id": "jhZ8dH4poh1F",
        "pycharm": {
          "name": "#%%\n"
        }
      },
      "execution_count": 21,
      "outputs": []
    },
    {
      "cell_type": "code",
      "source": [
        "model.compile(loss={'ctc': lambda y_true, y_pred: y_pred}, optimizer = OPTIMIZER_NAME, metrics=['accuracy'])\n",
        "\n",
        "now = datetime.now()\n",
        "date_time = now.strftime(\"%m_%d_%Y_%H%M%S\")\n",
        "filepath=f\"HTR_Using_CRNN/Model/{date_time}.hdf5\"\n",
        "\n",
        "# Callback to monitor val loss\n",
        "checkpoint = ModelCheckpoint(filepath=filepath, monitor='val_loss', verbose=1, save_best_only=True, mode='auto')\n",
        "earlystopping = EarlyStopping(patience=5, monitor='val_loss', min_delta=0, mode='min')\n",
        "lr_scheduler = ReduceLROnPlateau(monitor='val_loss', factor=0.1, patience=3)\n",
        "\n",
        "callbacks_list = [earlystopping, lr_scheduler, checkpoint]"
      ],
      "metadata": {
        "id": "IVQvY4kwolQ-",
        "pycharm": {
          "name": "#%%\n"
        }
      },
      "execution_count": 22,
      "outputs": []
    },
    {
      "cell_type": "code",
      "source": [
        "history = model.fit(x=[train_images, train_padded_label, train_input_length, train_label_length],\n",
        "                    y=np.zeros(len(train_images)),\n",
        "                    batch_size=BATCH_SIZE, \n",
        "                    epochs=EPOCHS, \n",
        "                    validation_data=([valid_images, valid_padded_label, valid_input_length, valid_label_length], [np.zeros(len(valid_images))]),\n",
        "                    verbose=2,\n",
        "                    callbacks=callbacks_list)"
      ],
      "metadata": {
        "colab": {
          "base_uri": "https://localhost:8080/",
          "height": 1000
        },
        "id": "QJx6rbOGouvc",
        "outputId": "82bef7da-730a-4ab7-f6b5-5bbbdf1030c5",
        "pycharm": {
          "name": "#%%\n"
        }
      },
      "execution_count": 23,
      "outputs": [
        {
          "output_type": "stream",
          "name": "stdout",
          "text": [
            "Epoch 1/30\n",
            "\n",
            "Epoch 1: val_loss improved from inf to 4.93051, saving model to HTR_Using_CRNN/Model/11_08_2022_131602.hdf5\n",
            "5624/5624 - 172s - loss: 8.7293 - accuracy: 0.1118 - val_loss: 4.9305 - val_accuracy: 0.2214 - 172s/epoch - 31ms/step\n",
            "Epoch 2/30\n",
            "\n",
            "Epoch 2: val_loss improved from 4.93051 to 3.04762, saving model to HTR_Using_CRNN/Model/11_08_2022_131602.hdf5\n",
            "5624/5624 - 152s - loss: 3.6967 - accuracy: 0.3139 - val_loss: 3.0476 - val_accuracy: 0.4193 - 152s/epoch - 27ms/step\n",
            "Epoch 3/30\n",
            "\n",
            "Epoch 3: val_loss improved from 3.04762 to 2.76295, saving model to HTR_Using_CRNN/Model/11_08_2022_131602.hdf5\n",
            "5624/5624 - 151s - loss: 2.6916 - accuracy: 0.4170 - val_loss: 2.7630 - val_accuracy: 0.4545 - 151s/epoch - 27ms/step\n",
            "Epoch 4/30\n",
            "\n",
            "Epoch 4: val_loss improved from 2.76295 to 2.40317, saving model to HTR_Using_CRNN/Model/11_08_2022_131602.hdf5\n",
            "5624/5624 - 151s - loss: 2.1532 - accuracy: 0.4954 - val_loss: 2.4032 - val_accuracy: 0.5285 - 151s/epoch - 27ms/step\n",
            "Epoch 5/30\n",
            "\n",
            "Epoch 5: val_loss did not improve from 2.40317\n",
            "5624/5624 - 151s - loss: 1.7983 - accuracy: 0.5539 - val_loss: 2.4033 - val_accuracy: 0.5273 - 151s/epoch - 27ms/step\n",
            "Epoch 6/30\n",
            "\n",
            "Epoch 6: val_loss improved from 2.40317 to 2.13303, saving model to HTR_Using_CRNN/Model/11_08_2022_131602.hdf5\n",
            "5624/5624 - 155s - loss: 1.5124 - accuracy: 0.6028 - val_loss: 2.1330 - val_accuracy: 0.6081 - 155s/epoch - 28ms/step\n",
            "Epoch 7/30\n",
            "\n",
            "Epoch 7: val_loss did not improve from 2.13303\n",
            "5624/5624 - 150s - loss: 1.2600 - accuracy: 0.6531 - val_loss: 2.1618 - val_accuracy: 0.6055 - 150s/epoch - 27ms/step\n",
            "Epoch 8/30\n",
            "\n",
            "Epoch 8: val_loss did not improve from 2.13303\n",
            "5624/5624 - 151s - loss: 1.0389 - accuracy: 0.7014 - val_loss: 2.1731 - val_accuracy: 0.6235 - 151s/epoch - 27ms/step\n",
            "Epoch 9/30\n",
            "\n",
            "Epoch 9: val_loss did not improve from 2.13303\n",
            "5624/5624 - 159s - loss: 0.8759 - accuracy: 0.7398 - val_loss: 2.2762 - val_accuracy: 0.6171 - 159s/epoch - 28ms/step\n",
            "Epoch 10/30\n",
            "\n",
            "Epoch 10: val_loss did not improve from 2.13303\n",
            "5624/5624 - 155s - loss: 0.7418 - accuracy: 0.7723 - val_loss: 2.2207 - val_accuracy: 0.6301 - 155s/epoch - 28ms/step\n",
            "Epoch 11/30\n",
            "\n",
            "Epoch 11: val_loss did not improve from 2.13303\n",
            "5624/5624 - 150s - loss: 0.6344 - accuracy: 0.8040 - val_loss: 2.3847 - val_accuracy: 0.6415 - 150s/epoch - 27ms/step\n",
            "Epoch 12/30\n",
            "\n",
            "Epoch 12: val_loss did not improve from 2.13303\n",
            "5624/5624 - 150s - loss: 0.5675 - accuracy: 0.8211 - val_loss: 2.2792 - val_accuracy: 0.6687 - 150s/epoch - 27ms/step\n",
            "Epoch 13/30\n",
            "\n",
            "Epoch 13: val_loss did not improve from 2.13303\n",
            "5624/5624 - 150s - loss: 0.4696 - accuracy: 0.8460 - val_loss: 2.3390 - val_accuracy: 0.6655 - 150s/epoch - 27ms/step\n",
            "Epoch 14/30\n",
            "\n",
            "Epoch 14: val_loss did not improve from 2.13303\n",
            "5624/5624 - 151s - loss: 0.4066 - accuracy: 0.8650 - val_loss: 2.4344 - val_accuracy: 0.6725 - 151s/epoch - 27ms/step\n",
            "Epoch 15/30\n",
            "\n",
            "Epoch 15: val_loss did not improve from 2.13303\n",
            "5624/5624 - 150s - loss: 0.3571 - accuracy: 0.8799 - val_loss: 2.4797 - val_accuracy: 0.6781 - 150s/epoch - 27ms/step\n",
            "Epoch 16/30\n",
            "\n",
            "Epoch 16: val_loss did not improve from 2.13303\n",
            "5624/5624 - 160s - loss: 0.3328 - accuracy: 0.8846 - val_loss: 2.5196 - val_accuracy: 0.6759 - 160s/epoch - 28ms/step\n",
            "Epoch 17/30\n",
            "\n",
            "Epoch 17: val_loss did not improve from 2.13303\n",
            "5624/5624 - 157s - loss: 0.2901 - accuracy: 0.8980 - val_loss: 2.5512 - val_accuracy: 0.6893 - 157s/epoch - 28ms/step\n",
            "Epoch 18/30\n",
            "\n",
            "Epoch 18: val_loss did not improve from 2.13303\n",
            "5624/5624 - 155s - loss: 0.2599 - accuracy: 0.9081 - val_loss: 2.5617 - val_accuracy: 0.6853 - 155s/epoch - 27ms/step\n",
            "Epoch 19/30\n",
            "\n",
            "Epoch 19: val_loss did not improve from 2.13303\n",
            "5624/5624 - 150s - loss: 0.2416 - accuracy: 0.9151 - val_loss: 2.6465 - val_accuracy: 0.6847 - 150s/epoch - 27ms/step\n",
            "Epoch 20/30\n",
            "\n",
            "Epoch 20: val_loss did not improve from 2.13303\n",
            "5624/5624 - 149s - loss: 0.2128 - accuracy: 0.9236 - val_loss: 2.7018 - val_accuracy: 0.6853 - 149s/epoch - 26ms/step\n",
            "Epoch 21/30\n",
            "\n",
            "Epoch 21: val_loss did not improve from 2.13303\n",
            "5624/5624 - 153s - loss: 0.1927 - accuracy: 0.9297 - val_loss: 2.7021 - val_accuracy: 0.6879 - 153s/epoch - 27ms/step\n",
            "Epoch 22/30\n"
          ]
        },
        {
          "output_type": "error",
          "ename": "KeyboardInterrupt",
          "evalue": "ignored",
          "traceback": [
            "\u001b[0;31m---------------------------------------------------------------------------\u001b[0m",
            "\u001b[0;31mKeyboardInterrupt\u001b[0m                         Traceback (most recent call last)",
            "\u001b[0;32m<ipython-input-23-2228ecb6d7a5>\u001b[0m in \u001b[0;36m<module>\u001b[0;34m\u001b[0m\n\u001b[1;32m      5\u001b[0m                     \u001b[0mvalidation_data\u001b[0m\u001b[0;34m=\u001b[0m\u001b[0;34m(\u001b[0m\u001b[0;34m[\u001b[0m\u001b[0mvalid_images\u001b[0m\u001b[0;34m,\u001b[0m \u001b[0mvalid_padded_label\u001b[0m\u001b[0;34m,\u001b[0m \u001b[0mvalid_input_length\u001b[0m\u001b[0;34m,\u001b[0m \u001b[0mvalid_label_length\u001b[0m\u001b[0;34m]\u001b[0m\u001b[0;34m,\u001b[0m \u001b[0;34m[\u001b[0m\u001b[0mnp\u001b[0m\u001b[0;34m.\u001b[0m\u001b[0mzeros\u001b[0m\u001b[0;34m(\u001b[0m\u001b[0mlen\u001b[0m\u001b[0;34m(\u001b[0m\u001b[0mvalid_images\u001b[0m\u001b[0;34m)\u001b[0m\u001b[0;34m)\u001b[0m\u001b[0;34m]\u001b[0m\u001b[0;34m)\u001b[0m\u001b[0;34m,\u001b[0m\u001b[0;34m\u001b[0m\u001b[0;34m\u001b[0m\u001b[0m\n\u001b[1;32m      6\u001b[0m                     \u001b[0mverbose\u001b[0m\u001b[0;34m=\u001b[0m\u001b[0;36m2\u001b[0m\u001b[0;34m,\u001b[0m\u001b[0;34m\u001b[0m\u001b[0;34m\u001b[0m\u001b[0m\n\u001b[0;32m----> 7\u001b[0;31m                     callbacks=callbacks_list)\n\u001b[0m",
            "\u001b[0;32m/usr/local/lib/python3.7/dist-packages/keras/utils/traceback_utils.py\u001b[0m in \u001b[0;36merror_handler\u001b[0;34m(*args, **kwargs)\u001b[0m\n\u001b[1;32m     62\u001b[0m     \u001b[0mfiltered_tb\u001b[0m \u001b[0;34m=\u001b[0m \u001b[0;32mNone\u001b[0m\u001b[0;34m\u001b[0m\u001b[0;34m\u001b[0m\u001b[0m\n\u001b[1;32m     63\u001b[0m     \u001b[0;32mtry\u001b[0m\u001b[0;34m:\u001b[0m\u001b[0;34m\u001b[0m\u001b[0;34m\u001b[0m\u001b[0m\n\u001b[0;32m---> 64\u001b[0;31m       \u001b[0;32mreturn\u001b[0m \u001b[0mfn\u001b[0m\u001b[0;34m(\u001b[0m\u001b[0;34m*\u001b[0m\u001b[0margs\u001b[0m\u001b[0;34m,\u001b[0m \u001b[0;34m**\u001b[0m\u001b[0mkwargs\u001b[0m\u001b[0;34m)\u001b[0m\u001b[0;34m\u001b[0m\u001b[0;34m\u001b[0m\u001b[0m\n\u001b[0m\u001b[1;32m     65\u001b[0m     \u001b[0;32mexcept\u001b[0m \u001b[0mException\u001b[0m \u001b[0;32mas\u001b[0m \u001b[0me\u001b[0m\u001b[0;34m:\u001b[0m  \u001b[0;31m# pylint: disable=broad-except\u001b[0m\u001b[0;34m\u001b[0m\u001b[0;34m\u001b[0m\u001b[0m\n\u001b[1;32m     66\u001b[0m       \u001b[0mfiltered_tb\u001b[0m \u001b[0;34m=\u001b[0m \u001b[0m_process_traceback_frames\u001b[0m\u001b[0;34m(\u001b[0m\u001b[0me\u001b[0m\u001b[0;34m.\u001b[0m\u001b[0m__traceback__\u001b[0m\u001b[0;34m)\u001b[0m\u001b[0;34m\u001b[0m\u001b[0;34m\u001b[0m\u001b[0m\n",
            "\u001b[0;32m/usr/local/lib/python3.7/dist-packages/keras/engine/training.py\u001b[0m in \u001b[0;36mfit\u001b[0;34m(self, x, y, batch_size, epochs, verbose, callbacks, validation_split, validation_data, shuffle, class_weight, sample_weight, initial_epoch, steps_per_epoch, validation_steps, validation_batch_size, validation_freq, max_queue_size, workers, use_multiprocessing)\u001b[0m\n\u001b[1;32m   1407\u001b[0m                 _r=1):\n\u001b[1;32m   1408\u001b[0m               \u001b[0mcallbacks\u001b[0m\u001b[0;34m.\u001b[0m\u001b[0mon_train_batch_begin\u001b[0m\u001b[0;34m(\u001b[0m\u001b[0mstep\u001b[0m\u001b[0;34m)\u001b[0m\u001b[0;34m\u001b[0m\u001b[0;34m\u001b[0m\u001b[0m\n\u001b[0;32m-> 1409\u001b[0;31m               \u001b[0mtmp_logs\u001b[0m \u001b[0;34m=\u001b[0m \u001b[0mself\u001b[0m\u001b[0;34m.\u001b[0m\u001b[0mtrain_function\u001b[0m\u001b[0;34m(\u001b[0m\u001b[0miterator\u001b[0m\u001b[0;34m)\u001b[0m\u001b[0;34m\u001b[0m\u001b[0;34m\u001b[0m\u001b[0m\n\u001b[0m\u001b[1;32m   1410\u001b[0m               \u001b[0;32mif\u001b[0m \u001b[0mdata_handler\u001b[0m\u001b[0;34m.\u001b[0m\u001b[0mshould_sync\u001b[0m\u001b[0;34m:\u001b[0m\u001b[0;34m\u001b[0m\u001b[0;34m\u001b[0m\u001b[0m\n\u001b[1;32m   1411\u001b[0m                 \u001b[0mcontext\u001b[0m\u001b[0;34m.\u001b[0m\u001b[0masync_wait\u001b[0m\u001b[0;34m(\u001b[0m\u001b[0;34m)\u001b[0m\u001b[0;34m\u001b[0m\u001b[0;34m\u001b[0m\u001b[0m\n",
            "\u001b[0;32m/usr/local/lib/python3.7/dist-packages/tensorflow/python/util/traceback_utils.py\u001b[0m in \u001b[0;36merror_handler\u001b[0;34m(*args, **kwargs)\u001b[0m\n\u001b[1;32m    148\u001b[0m     \u001b[0mfiltered_tb\u001b[0m \u001b[0;34m=\u001b[0m \u001b[0;32mNone\u001b[0m\u001b[0;34m\u001b[0m\u001b[0;34m\u001b[0m\u001b[0m\n\u001b[1;32m    149\u001b[0m     \u001b[0;32mtry\u001b[0m\u001b[0;34m:\u001b[0m\u001b[0;34m\u001b[0m\u001b[0;34m\u001b[0m\u001b[0m\n\u001b[0;32m--> 150\u001b[0;31m       \u001b[0;32mreturn\u001b[0m \u001b[0mfn\u001b[0m\u001b[0;34m(\u001b[0m\u001b[0;34m*\u001b[0m\u001b[0margs\u001b[0m\u001b[0;34m,\u001b[0m \u001b[0;34m**\u001b[0m\u001b[0mkwargs\u001b[0m\u001b[0;34m)\u001b[0m\u001b[0;34m\u001b[0m\u001b[0;34m\u001b[0m\u001b[0m\n\u001b[0m\u001b[1;32m    151\u001b[0m     \u001b[0;32mexcept\u001b[0m \u001b[0mException\u001b[0m \u001b[0;32mas\u001b[0m \u001b[0me\u001b[0m\u001b[0;34m:\u001b[0m\u001b[0;34m\u001b[0m\u001b[0;34m\u001b[0m\u001b[0m\n\u001b[1;32m    152\u001b[0m       \u001b[0mfiltered_tb\u001b[0m \u001b[0;34m=\u001b[0m \u001b[0m_process_traceback_frames\u001b[0m\u001b[0;34m(\u001b[0m\u001b[0me\u001b[0m\u001b[0;34m.\u001b[0m\u001b[0m__traceback__\u001b[0m\u001b[0;34m)\u001b[0m\u001b[0;34m\u001b[0m\u001b[0;34m\u001b[0m\u001b[0m\n",
            "\u001b[0;32m/usr/local/lib/python3.7/dist-packages/tensorflow/python/eager/def_function.py\u001b[0m in \u001b[0;36m__call__\u001b[0;34m(self, *args, **kwds)\u001b[0m\n\u001b[1;32m    913\u001b[0m \u001b[0;34m\u001b[0m\u001b[0m\n\u001b[1;32m    914\u001b[0m       \u001b[0;32mwith\u001b[0m \u001b[0mOptionalXlaContext\u001b[0m\u001b[0;34m(\u001b[0m\u001b[0mself\u001b[0m\u001b[0;34m.\u001b[0m\u001b[0m_jit_compile\u001b[0m\u001b[0;34m)\u001b[0m\u001b[0;34m:\u001b[0m\u001b[0;34m\u001b[0m\u001b[0;34m\u001b[0m\u001b[0m\n\u001b[0;32m--> 915\u001b[0;31m         \u001b[0mresult\u001b[0m \u001b[0;34m=\u001b[0m \u001b[0mself\u001b[0m\u001b[0;34m.\u001b[0m\u001b[0m_call\u001b[0m\u001b[0;34m(\u001b[0m\u001b[0;34m*\u001b[0m\u001b[0margs\u001b[0m\u001b[0;34m,\u001b[0m \u001b[0;34m**\u001b[0m\u001b[0mkwds\u001b[0m\u001b[0;34m)\u001b[0m\u001b[0;34m\u001b[0m\u001b[0;34m\u001b[0m\u001b[0m\n\u001b[0m\u001b[1;32m    916\u001b[0m \u001b[0;34m\u001b[0m\u001b[0m\n\u001b[1;32m    917\u001b[0m       \u001b[0mnew_tracing_count\u001b[0m \u001b[0;34m=\u001b[0m \u001b[0mself\u001b[0m\u001b[0;34m.\u001b[0m\u001b[0mexperimental_get_tracing_count\u001b[0m\u001b[0;34m(\u001b[0m\u001b[0;34m)\u001b[0m\u001b[0;34m\u001b[0m\u001b[0;34m\u001b[0m\u001b[0m\n",
            "\u001b[0;32m/usr/local/lib/python3.7/dist-packages/tensorflow/python/eager/def_function.py\u001b[0m in \u001b[0;36m_call\u001b[0;34m(self, *args, **kwds)\u001b[0m\n\u001b[1;32m    945\u001b[0m       \u001b[0;31m# In this case we have created variables on the first call, so we run the\u001b[0m\u001b[0;34m\u001b[0m\u001b[0;34m\u001b[0m\u001b[0;34m\u001b[0m\u001b[0m\n\u001b[1;32m    946\u001b[0m       \u001b[0;31m# defunned version which is guaranteed to never create variables.\u001b[0m\u001b[0;34m\u001b[0m\u001b[0;34m\u001b[0m\u001b[0;34m\u001b[0m\u001b[0m\n\u001b[0;32m--> 947\u001b[0;31m       \u001b[0;32mreturn\u001b[0m \u001b[0mself\u001b[0m\u001b[0;34m.\u001b[0m\u001b[0m_stateless_fn\u001b[0m\u001b[0;34m(\u001b[0m\u001b[0;34m*\u001b[0m\u001b[0margs\u001b[0m\u001b[0;34m,\u001b[0m \u001b[0;34m**\u001b[0m\u001b[0mkwds\u001b[0m\u001b[0;34m)\u001b[0m  \u001b[0;31m# pylint: disable=not-callable\u001b[0m\u001b[0;34m\u001b[0m\u001b[0;34m\u001b[0m\u001b[0m\n\u001b[0m\u001b[1;32m    948\u001b[0m     \u001b[0;32melif\u001b[0m \u001b[0mself\u001b[0m\u001b[0;34m.\u001b[0m\u001b[0m_stateful_fn\u001b[0m \u001b[0;32mis\u001b[0m \u001b[0;32mnot\u001b[0m \u001b[0;32mNone\u001b[0m\u001b[0;34m:\u001b[0m\u001b[0;34m\u001b[0m\u001b[0;34m\u001b[0m\u001b[0m\n\u001b[1;32m    949\u001b[0m       \u001b[0;31m# Release the lock early so that multiple threads can perform the call\u001b[0m\u001b[0;34m\u001b[0m\u001b[0;34m\u001b[0m\u001b[0;34m\u001b[0m\u001b[0m\n",
            "\u001b[0;32m/usr/local/lib/python3.7/dist-packages/tensorflow/python/eager/function.py\u001b[0m in \u001b[0;36m__call__\u001b[0;34m(self, *args, **kwargs)\u001b[0m\n\u001b[1;32m   2452\u001b[0m        filtered_flat_args) = self._maybe_define_function(args, kwargs)\n\u001b[1;32m   2453\u001b[0m     return graph_function._call_flat(\n\u001b[0;32m-> 2454\u001b[0;31m         filtered_flat_args, captured_inputs=graph_function.captured_inputs)  # pylint: disable=protected-access\n\u001b[0m\u001b[1;32m   2455\u001b[0m \u001b[0;34m\u001b[0m\u001b[0m\n\u001b[1;32m   2456\u001b[0m   \u001b[0;34m@\u001b[0m\u001b[0mproperty\u001b[0m\u001b[0;34m\u001b[0m\u001b[0;34m\u001b[0m\u001b[0m\n",
            "\u001b[0;32m/usr/local/lib/python3.7/dist-packages/tensorflow/python/eager/function.py\u001b[0m in \u001b[0;36m_call_flat\u001b[0;34m(self, args, captured_inputs, cancellation_manager)\u001b[0m\n\u001b[1;32m   1859\u001b[0m       \u001b[0;31m# No tape is watching; skip to running the function.\u001b[0m\u001b[0;34m\u001b[0m\u001b[0;34m\u001b[0m\u001b[0;34m\u001b[0m\u001b[0m\n\u001b[1;32m   1860\u001b[0m       return self._build_call_outputs(self._inference_function.call(\n\u001b[0;32m-> 1861\u001b[0;31m           ctx, args, cancellation_manager=cancellation_manager))\n\u001b[0m\u001b[1;32m   1862\u001b[0m     forward_backward = self._select_forward_and_backward_functions(\n\u001b[1;32m   1863\u001b[0m         \u001b[0margs\u001b[0m\u001b[0;34m,\u001b[0m\u001b[0;34m\u001b[0m\u001b[0;34m\u001b[0m\u001b[0m\n",
            "\u001b[0;32m/usr/local/lib/python3.7/dist-packages/tensorflow/python/eager/function.py\u001b[0m in \u001b[0;36mcall\u001b[0;34m(self, ctx, args, cancellation_manager)\u001b[0m\n\u001b[1;32m    500\u001b[0m               \u001b[0minputs\u001b[0m\u001b[0;34m=\u001b[0m\u001b[0margs\u001b[0m\u001b[0;34m,\u001b[0m\u001b[0;34m\u001b[0m\u001b[0;34m\u001b[0m\u001b[0m\n\u001b[1;32m    501\u001b[0m               \u001b[0mattrs\u001b[0m\u001b[0;34m=\u001b[0m\u001b[0mattrs\u001b[0m\u001b[0;34m,\u001b[0m\u001b[0;34m\u001b[0m\u001b[0;34m\u001b[0m\u001b[0m\n\u001b[0;32m--> 502\u001b[0;31m               ctx=ctx)\n\u001b[0m\u001b[1;32m    503\u001b[0m         \u001b[0;32melse\u001b[0m\u001b[0;34m:\u001b[0m\u001b[0;34m\u001b[0m\u001b[0;34m\u001b[0m\u001b[0m\n\u001b[1;32m    504\u001b[0m           outputs = execute.execute_with_cancellation(\n",
            "\u001b[0;32m/usr/local/lib/python3.7/dist-packages/tensorflow/python/eager/execute.py\u001b[0m in \u001b[0;36mquick_execute\u001b[0;34m(op_name, num_outputs, inputs, attrs, ctx, name)\u001b[0m\n\u001b[1;32m     53\u001b[0m     \u001b[0mctx\u001b[0m\u001b[0;34m.\u001b[0m\u001b[0mensure_initialized\u001b[0m\u001b[0;34m(\u001b[0m\u001b[0;34m)\u001b[0m\u001b[0;34m\u001b[0m\u001b[0;34m\u001b[0m\u001b[0m\n\u001b[1;32m     54\u001b[0m     tensors = pywrap_tfe.TFE_Py_Execute(ctx._handle, device_name, op_name,\n\u001b[0;32m---> 55\u001b[0;31m                                         inputs, attrs, num_outputs)\n\u001b[0m\u001b[1;32m     56\u001b[0m   \u001b[0;32mexcept\u001b[0m \u001b[0mcore\u001b[0m\u001b[0;34m.\u001b[0m\u001b[0m_NotOkStatusException\u001b[0m \u001b[0;32mas\u001b[0m \u001b[0me\u001b[0m\u001b[0;34m:\u001b[0m\u001b[0;34m\u001b[0m\u001b[0;34m\u001b[0m\u001b[0m\n\u001b[1;32m     57\u001b[0m     \u001b[0;32mif\u001b[0m \u001b[0mname\u001b[0m \u001b[0;32mis\u001b[0m \u001b[0;32mnot\u001b[0m \u001b[0;32mNone\u001b[0m\u001b[0;34m:\u001b[0m\u001b[0;34m\u001b[0m\u001b[0;34m\u001b[0m\u001b[0m\n",
            "\u001b[0;31mKeyboardInterrupt\u001b[0m: "
          ]
        }
      ]
    },
    {
      "cell_type": "markdown",
      "source": [
        "# Generate Test Set for Writer 10011"
      ],
      "metadata": {
        "id": "FfrjWyf6WK48"
      }
    },
    {
      "cell_type": "code",
      "source": [
        "import glob\n",
        "\n",
        "test_images = []\n",
        "test_labels = []\n",
        "test_input_length = []\n",
        "test_label_length = []\n",
        "test_original_text = []\n",
        "\n",
        "def extract_real_handwriting(label_dir):\n",
        "    words = []\n",
        "    label_files = glob.glob(f\"{label_dir}/*.txt\")\n",
        "\n",
        "    for label_filepath in label_files:\n",
        "      text_id = osp.splitext(osp.basename(label_filepath))[0]\n",
        "      \n",
        "      # read in the txt file\n",
        "      label = None\n",
        "      with open(label_filepath, encoding=\"utf-8\") as f:\n",
        "        label = f.read().strip()\n",
        "      \n",
        "      # check if label is read in correctly\n",
        "      assert label is not None, \"Unable to detect label\"\n",
        "      \n",
        "      image_filepath = osp.join(label_dir, f\"{text_id}.png\")\n",
        "      if not osp.isfile(image_filepath):\n",
        "          raise Exception(f\"{image_filepath} not found.\")\n",
        "\n",
        "      words.append({\n",
        "          'id': text_id,\n",
        "          'image_filepath': image_filepath,\n",
        "          'text': label\n",
        "      })\n",
        "    \n",
        "    return words"
      ],
      "metadata": {
        "id": "gNh-hmUEWJ7M"
      },
      "execution_count": 24,
      "outputs": []
    },
    {
      "cell_type": "code",
      "source": [
        "test_data = extract_real_handwriting(\"/content/Real_HandWriting/Real_HandWriting\")"
      ],
      "metadata": {
        "id": "elOFsRxFXClP"
      },
      "execution_count": 25,
      "outputs": []
    },
    {
      "cell_type": "code",
      "source": [
        "for index, word in enumerate(test_data):\n",
        "    image_filepath = word['image_filepath']\n",
        "    text = word['text']\n",
        "\n",
        "    # processing on image\n",
        "    img = cv2.imread(image_filepath, cv2.IMREAD_GRAYSCALE)\n",
        "\n",
        "    try:\n",
        "        img = process_image(img)\n",
        "    except:\n",
        "        raise Exception(\"Unable to process image\")\n",
        "\n",
        "    # processing on label\n",
        "    try:\n",
        "        label = encode_to_labels(text)\n",
        "    except Exception as e:\n",
        "        raise Exception(\"Unable to process label\")\n",
        "    \n",
        "    # added this line to prevent error from CTC computation\n",
        "    if len(label) > 31:\n",
        "      continue\n",
        "    \n",
        "    test_images.append(img)\n",
        "    test_labels.append(label)\n",
        "    test_input_length.append(31)\n",
        "    test_label_length.append(len(text))\n",
        "    test_original_text.append(text)"
      ],
      "metadata": {
        "id": "oRoD094GW06x"
      },
      "execution_count": 26,
      "outputs": []
    },
    {
      "cell_type": "code",
      "source": [
        "test_padded_label = pad_sequences(test_labels, \n",
        "                             maxlen=MAX_LABEL_LEN, \n",
        "                             padding='post',\n",
        "                             value=len(CHAR_LIST))\n",
        "\n",
        "test_images = np.asarray(test_images)\n",
        "test_input_length = np.asarray(test_input_length)\n",
        "test_label_length = np.asarray(test_label_length)"
      ],
      "metadata": {
        "id": "B3azYdSwXa4C"
      },
      "execution_count": 27,
      "outputs": []
    },
    {
      "cell_type": "code",
      "source": [
        "test_images.shape"
      ],
      "metadata": {
        "id": "l2aLlYgmXyAS",
        "outputId": "c831e709-a4bf-48fc-e8c6-9249e62fc30e",
        "colab": {
          "base_uri": "https://localhost:8080/"
        }
      },
      "execution_count": 28,
      "outputs": [
        {
          "output_type": "execute_result",
          "data": {
            "text/plain": [
              "(282, 32, 128, 1)"
            ]
          },
          "metadata": {},
          "execution_count": 28
        }
      ]
    },
    {
      "cell_type": "code",
      "source": [
        "from google.colab.patches import cv2_imshow\n",
        "\n",
        "cv2_imshow(test_images[0])"
      ],
      "metadata": {
        "id": "I68CyneFX695",
        "outputId": "79fd2fa1-91c9-42e4-cb33-5952fbc61e89",
        "colab": {
          "base_uri": "https://localhost:8080/",
          "height": 49
        }
      },
      "execution_count": 29,
      "outputs": [
        {
          "output_type": "display_data",
          "data": {
            "text/plain": [
              "<PIL.Image.Image image mode=RGB size=128x32 at 0x7F205525EE10>"
            ],
            "image/png": "[encoded data removed]"
          },
          "metadata": {}
        }
      ]
    },
    {
      "cell_type": "markdown",
      "source": [
        "# Benchmark - Character Error Rate"
      ],
      "metadata": {
        "id": "PGzpVtNWo7zH",
        "pycharm": {
          "name": "#%% md\n"
        }
      }
    },
    {
      "cell_type": "code",
      "source": [
        "def levenshtein_distance(s, t):\n",
        "    dp = [[0 for i in range(len(t)+1)] for j in range(len(s)+1)]\n",
        "    \n",
        "    # fill in the border, can only be insert\n",
        "    for i in range(1, len(dp)):\n",
        "        dp[i][0] = i\n",
        "    for j in range(1, len(dp[0])):\n",
        "        dp[0][j] = j\n",
        "    \n",
        "    # s is vertical, t is horizontal\n",
        "    for i in range(1, len(dp)):\n",
        "        for j in range(1, len(dp[i])):\n",
        "            if s[i-1] == t[j-1]:\n",
        "                dp[i][j] = dp[i-1][j-1]\n",
        "            else:\n",
        "                dp[i][j] = 1 + min(dp[i][j-1],        # Insert\n",
        "                                   dp[i-1][j],        # Remove\n",
        "                                   dp[i-1][j-1])      # Replace\n",
        "\n",
        "    return dp[len(s)][len(t)]"
      ],
      "metadata": {
        "id": "7NfggdL5ow_9",
        "pycharm": {
          "name": "#%%\n"
        }
      },
      "execution_count": 30,
      "outputs": []
    },
    {
      "cell_type": "code",
      "source": [
        "# predict outputs on validation images\n",
        "act_model.load_weights(filepath)\n",
        "prediction = act_model.predict(test_images)"
      ],
      "metadata": {
        "colab": {
          "base_uri": "https://localhost:8080/"
        },
        "id": "cSeEZM1xpAAc",
        "outputId": "fe6b3caa-3670-4f45-f3b9-b052ddab0dc3",
        "pycharm": {
          "name": "#%%\n"
        }
      },
      "execution_count": 34,
      "outputs": [
        {
          "output_type": "stream",
          "name": "stdout",
          "text": [
            "9/9 [==============================] - 1s 116ms/step\n"
          ]
        }
      ]
    },
    {
      "cell_type": "code",
      "source": [
        "# use CTC decoder\n",
        "decoded = K.ctc_decode(prediction, \n",
        "                       input_length=np.ones(prediction.shape[0]) * prediction.shape[1],\n",
        "                       greedy=True)[0][0]\n",
        "\n",
        "out = K.get_value(decoded)\n",
        "\n",
        "total_character = 0\n",
        "edit_distance = 0\n",
        "# see the results (the lower CER the better)\n",
        "for i, x in enumerate(out):\n",
        "    original_text = test_original_text[i]\n",
        "    letters=''    \n",
        "    for p in x:\n",
        "        if int(p) != -1:\n",
        "            letters += CHAR_LIST[int(p)]\n",
        "            total_character += 1\n",
        "\n",
        "    edit_cost = levenshtein_distance(original_text, letters)\n",
        "    edit_distance += edit_cost\n",
        "\n",
        "    if i % 70 == 0:\n",
        "        print(\"edit distance = \", edit_cost)\n",
        "        print(\"original_text =  \", original_text)\n",
        "        print(\"predicted text = \", end = '')\n",
        "        for p in x:\n",
        "            if int(p) != -1:\n",
        "                print(CHAR_LIST[int(p)], end = '')\n",
        "        plt.imshow(test_images[i].reshape(32,128), cmap=plt.cm.gray)\n",
        "        plt.show()\n",
        "        print('\\n')"
      ],
      "metadata": {
        "colab": {
          "base_uri": "https://localhost:8080/",
          "height": 1000
        },
        "id": "RifnisXlpBl0",
        "outputId": "ac0f8faf-5f37-4aa0-f47d-c3bc497359d9",
        "pycharm": {
          "name": "#%%\n"
        }
      },
      "execution_count": 39,
      "outputs": [
        {
          "output_type": "stream",
          "name": "stdout",
          "text": [
            "edit distance =  1\n",
            "original_text =   Pierson\n",
            "predicted text = Prerson"
          ]
        },
        {
          "output_type": "display_data",
          "data": {
            "text/plain": [
              "<Figure size 432x288 with 1 Axes>"
            ],
            "image/png": "[encoded data removed]"
          },
          "metadata": {
            "needs_background": "light"
          }
        },
        {
          "output_type": "stream",
          "name": "stdout",
          "text": [
            "\n",
            "\n",
            "edit distance =  0\n",
            "original_text =   mission\n",
            "predicted text = mission"
          ]
        },
        {
          "output_type": "display_data",
          "data": {
            "text/plain": [
              "<Figure size 432x288 with 1 Axes>"
            ],
            "image/png": "[encoded data removed]"
          },
          "metadata": {
            "needs_background": "light"
          }
        },
        {
          "output_type": "stream",
          "name": "stdout",
          "text": [
            "\n",
            "\n",
            "edit distance =  0\n",
            "original_text =   him\n",
            "predicted text = him"
          ]
        },
        {
          "output_type": "display_data",
          "data": {
            "text/plain": [
              "<Figure size 432x288 with 1 Axes>"
            ],
            "image/png": "[encoded data removed]"
          },
          "metadata": {
            "needs_background": "light"
          }
        },
        {
          "output_type": "stream",
          "name": "stdout",
          "text": [
            "\n",
            "\n",
            "edit distance =  0\n",
            "original_text =   apart\n",
            "predicted text = apart"
          ]
        },
        {
          "output_type": "display_data",
          "data": {
            "text/plain": [
              "<Figure size 432x288 with 1 Axes>"
            ],
            "image/png": "[encoded data removed]"
          },
          "metadata": {
            "needs_background": "light"
          }
        },
        {
          "output_type": "stream",
          "name": "stdout",
          "text": [
            "\n",
            "\n",
            "edit distance =  0\n",
            "original_text =   on\n",
            "predicted text = on"
          ]
        },
        {
          "output_type": "display_data",
          "data": {
            "text/plain": [
              "<Figure size 432x288 with 1 Axes>"
            ],
            "image/png": "[encoded data removed]"
          },
          "metadata": {
            "needs_background": "light"
          }
        },
        {
          "output_type": "stream",
          "name": "stdout",
          "text": [
            "\n",
            "\n"
          ]
        }
      ]
    },
    {
      "cell_type": "code",
      "source": [
        "print(\"CER: \", edit_distance/total_character)\n",
        "print(\"Total edits: \", edit_distance)\n",
        "print(\"Total Character: \", total_character)"
      ],
      "metadata": {
        "colab": {
          "base_uri": "https://localhost:8080/"
        },
        "id": "DF5bFUuXpFcY",
        "outputId": "dc420783-f866-4ce7-b1ba-524090b22295",
        "pycharm": {
          "name": "#%%\n"
        }
      },
      "execution_count": 37,
      "outputs": [
        {
          "output_type": "stream",
          "name": "stdout",
          "text": [
            "CER:  0.1800595238095238\n",
            "Total edits:  242\n",
            "Total Character:  1344\n"
          ]
        }
      ]
    },
    {
      "cell_type": "code",
      "source": [],
      "metadata": {
        "id": "845zJwDGpHRG",
        "pycharm": {
          "name": "#%%\n"
        }
      },
      "execution_count": null,
      "outputs": []
    }
  ],
  "metadata": {
    "accelerator": "GPU",
    "colab": {
      "collapsed_sections": [],
      "provenance": [],
      "authorship_tag": "ABX9TyN0BLC0jFBSNxYxtRQ9jyTS",
      "include_colab_link": true
    },
    "kernelspec": {
      "display_name": "Python 3",
      "name": "python3"
    },
    "language_info": {
      "name": "python"
    }
  },
  "nbformat": 4,
  "nbformat_minor": 0
}