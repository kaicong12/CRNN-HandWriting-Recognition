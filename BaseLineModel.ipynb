{
  "cells": [
    {
      "cell_type": "markdown",
      "metadata": {
        "id": "view-in-github",
        "colab_type": "text"
      },
      "source": [
        "<a href=\"https://colab.research.google.com/github/kaicong12/CRNN-HandWriting-Recognition/blob/main/BaseLine_Benchmark.ipynb\" target=\"_parent\"><img src=\"https://colab.research.google.com/assets/colab-badge.svg\" alt=\"Open In Colab\"/></a>"
      ]
    },
    {
      "cell_type": "code",
      "execution_count": 1,
      "metadata": {
        "id": "VnS3m0qS9624",
        "pycharm": {
          "name": "#%%\n"
        }
      },
      "outputs": [],
      "source": [
        "from google.colab import drive\n",
        "\n",
        "drive.mount('/content/gdrive')"
      ]
    },
    {
      "cell_type": "code",
      "execution_count": 2,
      "metadata": {
        "id": "3DZgoSwrI2p7",
        "pycharm": {
          "name": "#%%\n"
        }
      },
      "outputs": [],
      "source": [
        "!mkdir -p words xml HTR_Using_CRNN/Model"
      ]
    },
    {
      "cell_type": "code",
      "execution_count": 3,
      "metadata": {
        "id": "BBMP2UJhHTKX",
        "pycharm": {
          "name": "#%%\n"
        }
      },
      "outputs": [],
      "source": [
        "!tar -xzf  \"/content/gdrive/MyDrive/GoogleColab/words.tgz\" -C \"/content/words/\"\n",
        "!tar -xzf  \"/content/gdrive/MyDrive/GoogleColab/xml.tgz\" -C \"/content/xml/\"\n",
        "!unzip -qq \"/content/gdrive/MyDrive/GoogleColab/Real_HandWriting.zip\" -d \"/content/Real_HandWriting\""
      ]
    },
    {
      "cell_type": "markdown",
      "metadata": {
        "id": "kfNdezF8eE-v",
        "pycharm": {
          "name": "#%% md\n"
        }
      },
      "source": [
        "# Data Preprocessing"
      ]
    },
    {
      "cell_type": "code",
      "execution_count": 4,
      "metadata": {
        "id": "j64a_aB0fhMa",
        "pycharm": {
          "name": "#%%\n"
        }
      },
      "outputs": [],
      "source": [
        "import numpy as np\n",
        "import cv2\n",
        "import os\n",
        "import os.path as osp\n",
        "import pandas as pd\n",
        "import glob\n",
        "import string\n",
        "import matplotlib.pyplot as plt\n",
        "from datetime import datetime\n",
        "import xml.etree.cElementTree as et\n",
        "\n",
        "from keras_preprocessing.sequence import pad_sequences\n",
        "from keras.layers import Dense, LSTM, Reshape, BatchNormalization, Input, Conv2D, MaxPool2D, Lambda, Bidirectional\n",
        "from keras.models import Model\n",
        "import keras.backend as K\n",
        "from keras.callbacks import ModelCheckpoint, EarlyStopping, ReduceLROnPlateau"
      ]
    },
    {
      "cell_type": "code",
      "execution_count": 5,
      "metadata": {
        "id": "JlSrOk_6fmkk",
        "pycharm": {
          "name": "#%%\n"
        }
      },
      "outputs": [],
      "source": [
        "import tensorflow as tf\n",
        "\n",
        "#ignore warnings in the output\n",
        "tf.compat.v1.logging.set_verbosity(tf.compat.v1.logging.ERROR)"
      ]
    },
    {
      "cell_type": "code",
      "execution_count": 6,
      "metadata": {
        "id": "aERRif4hgZ3A",
        "colab": {
          "base_uri": "https://localhost:8080/"
        },
        "outputId": "0cd0d6c4-1a94-411f-ddf8-73dce2146666",
        "pycharm": {
          "name": "#%%\n"
        }
      },
      "outputs": [
        {
          "output_type": "stream",
          "name": "stdout",
          "text": [
            "[name: \"/device:CPU:0\"\n",
            "device_type: \"CPU\"\n",
            "memory_limit: 268435456\n",
            "locality {\n",
            "}\n",
            "incarnation: 1415400083175699955\n",
            "xla_global_id: -1\n",
            ", name: \"/device:GPU:0\"\n",
            "device_type: \"GPU\"\n",
            "memory_limit: 14415560704\n",
            "locality {\n",
            "  bus_id: 1\n",
            "  links {\n",
            "  }\n",
            "}\n",
            "incarnation: 14680905035090492562\n",
            "physical_device_desc: \"device: 0, name: Tesla T4, pci bus id: 0000:00:04.0, compute capability: 7.5\"\n",
            "xla_global_id: 416903419\n",
            "]\n",
            "Device mapping:\n",
            "/job:localhost/replica:0/task:0/device:GPU:0 -> device: 0, name: Tesla T4, pci bus id: 0000:00:04.0, compute capability: 7.5\n",
            "\n"
          ]
        }
      ],
      "source": [
        "from tensorflow.python.client import device_lib\n",
        "\n",
        "# Check all available devices if GPU is available\n",
        "print(device_lib.list_local_devices())\n",
        "sess = tf.compat.v1.Session(config=tf.compat.v1.ConfigProto(log_device_placement=True))"
      ]
    },
    {
      "cell_type": "code",
      "execution_count": 7,
      "metadata": {
        "id": "pVYsZ02xggCm",
        "colab": {
          "base_uri": "https://localhost:8080/"
        },
        "outputId": "610d750a-51a0-4a64-f15a-0bd3ab913b68",
        "pycharm": {
          "name": "#%%\n"
        }
      },
      "outputs": [
        {
          "output_type": "execute_result",
          "data": {
            "text/plain": [
              "[PhysicalDevice(name='/physical_device:GPU:0', device_type='GPU')]"
            ]
          },
          "metadata": {},
          "execution_count": 7
        }
      ],
      "source": [
        "# This step is to check GPU is available or not.\n",
        "\n",
        "tf.config.experimental.list_physical_devices('GPU')"
      ]
    },
    {
      "cell_type": "code",
      "execution_count": 8,
      "metadata": {
        "id": "Pwculm5ogjrj",
        "colab": {
          "base_uri": "https://localhost:8080/",
          "height": 35
        },
        "outputId": "62b3b72a-d5f6-4c57-923a-c8fc22000a57",
        "pycharm": {
          "name": "#%%\n"
        }
      },
      "outputs": [
        {
          "output_type": "execute_result",
          "data": {
            "text/plain": [
              "'/device:GPU:0'"
            ],
            "application/vnd.google.colaboratory.intrinsic+json": {
              "type": "string"
            }
          },
          "metadata": {},
          "execution_count": 8
        }
      ],
      "source": [
        "tf.test.gpu_device_name()"
      ]
    },
    {
      "cell_type": "code",
      "execution_count": 9,
      "metadata": {
        "id": "Vb-h5wvA8XTF",
        "pycharm": {
          "name": "#%%\n"
        }
      },
      "outputs": [],
      "source": [
        "# dataset related variables\n",
        "SAMPLE_SIZE = 30552  # fix sample size to be the same as augmented model\n",
        "MAX_LABEL_LEN = 0\n",
        "CHAR_LIST = \"!\\\"#&'()*+,-./0123456789:;?ABCDEFGHIJKLMNOPQRSTUVWXYZabcdefghijklmnopqrstuvwxyz\"\n",
        "train_images = []\n",
        "train_labels = []\n",
        "train_input_length = []\n",
        "train_label_length = []\n",
        "train_original_text = []\n",
        "\n",
        "valid_images = []\n",
        "valid_labels = []\n",
        "valid_input_length = []\n",
        "valid_label_length = []\n",
        "valid_original_text = []\n",
        "\n",
        "\n",
        "# model related variables\n",
        "BATCH_SIZE = 8\n",
        "EPOCHS = 30\n",
        "E = str(EPOCHS)\n",
        "OPTIMIZER_NAME = 'sgd'"
      ]
    },
    {
      "cell_type": "code",
      "source": [
        "def encode_to_labels(txt):\n",
        "    # encoding each output word into digits\n",
        "    dig_lst = []\n",
        "    for index, chara in enumerate(txt):\n",
        "        dig_lst.append(CHAR_LIST.index(chara))\n",
        "        \n",
        "    return dig_lst"
      ],
      "metadata": {
        "id": "U-GsElk2nJeh",
        "pycharm": {
          "name": "#%%\n"
        }
      },
      "execution_count": 10,
      "outputs": []
    },
    {
      "cell_type": "code",
      "source": [
        "def extract_words_from_directories(xml_dir, png_dir):\n",
        "    words = []\n",
        "    xml_files = os.listdir(xml_dir)\n",
        "\n",
        "    for xml_filename in xml_files:\n",
        "      tree=et.parse(osp.join(xml_dir, xml_filename))\n",
        "      root=tree.getroot()\n",
        "\n",
        "      for word in root.iter('word'):\n",
        "        text_id = word.attrib['id']\n",
        "\n",
        "        splits = text_id.split(\"-\")\n",
        "        split_0 = splits[0]\n",
        "        split_1 = \"-\".join(splits[:2])\n",
        "        split_2 = \"-\".join(splits[2:])\n",
        "\n",
        "        filepath = osp.join(png_dir, split_0, split_1, f\"{text_id}.png\")\n",
        "\n",
        "        # filepath = f\"/content/words/{split_0}/{split_1}/{text_id}.png\"\n",
        "        if not osp.isfile(filepath):\n",
        "          raise Exception(f\"{filepath} not found.\")\n",
        "\n",
        "        words.append({\n",
        "            'id': text_id,\n",
        "            'image_filepath': filepath,\n",
        "            'text': word.attrib['text']\n",
        "        })\n",
        "    \n",
        "    return words\n"
      ],
      "metadata": {
        "id": "YP4azTGrm-og",
        "pycharm": {
          "name": "#%%\n"
        }
      },
      "execution_count": 11,
      "outputs": []
    },
    {
      "cell_type": "code",
      "source": [
        "def process_image(img):\n",
        "      \"\"\"\n",
        "      Converts image to shape (32, 128, 1) & normalize\n",
        "      \"\"\"\n",
        "      w, h = img.shape\n",
        "      \n",
        "      # image thresholding\n",
        "      _, img = cv2.threshold(img, \n",
        "                             128, \n",
        "                             255, \n",
        "                             cv2.THRESH_BINARY | cv2.THRESH_OTSU)\n",
        "      \n",
        "      # Aspect Ratio Calculation\n",
        "      new_w = 32\n",
        "      new_h = int(h * (new_w / w))\n",
        "      img = cv2.resize(img, (new_h, new_w))\n",
        "      w, h = img.shape\n",
        "      \n",
        "      img = img.astype('float32')\n",
        "      \n",
        "      # Converts each to (32, 128, 1)\n",
        "      if w < 32:\n",
        "          add_zeros = np.full((32-w, h), 255)\n",
        "          img = np.concatenate((img, add_zeros))\n",
        "          w, h = img.shape\n",
        "\n",
        "      if h < 128:\n",
        "          add_zeros = np.full((w, 128-h), 255)\n",
        "          img = np.concatenate((img, add_zeros), axis=1)\n",
        "          w, h = img.shape\n",
        "          \n",
        "      if h > 128 or w > 32:\n",
        "          dim = (128,32)\n",
        "          img = cv2.resize(img, dim)\n",
        "      \n",
        "      # subtract is to make white pixels black and black pixels white\n",
        "      # img = cv2.subtract(255, img)\n",
        "\n",
        "      img = np.expand_dims(img, axis=2)\n",
        "\n",
        "      # Normalize\n",
        "      cv2.normalize(img, dst=None, alpha=0, beta=255, norm_type=cv2.NORM_MINMAX, dtype=cv2.CV_32F)\n",
        "\n",
        "      return img"
      ],
      "metadata": {
        "id": "Td6vrxKynCXS",
        "pycharm": {
          "name": "#%%\n"
        }
      },
      "execution_count": 12,
      "outputs": []
    },
    {
      "cell_type": "code",
      "source": [
        "# read in words and annotations from directory\n",
        "data = extract_words_from_directories(\"/content/xml\", \"/content/words\")"
      ],
      "metadata": {
        "id": "vcVcC-GDnW7i",
        "pycharm": {
          "name": "#%%\n"
        }
      },
      "execution_count": 13,
      "outputs": []
    },
    {
      "cell_type": "code",
      "source": [
        "data[0]"
      ],
      "metadata": {
        "colab": {
          "base_uri": "https://localhost:8080/"
        },
        "id": "GoNwVKWPoDwD",
        "outputId": "61574625-85ec-467a-8379-b56cc8b43552",
        "pycharm": {
          "name": "#%%\n"
        }
      },
      "execution_count": 14,
      "outputs": [
        {
          "output_type": "execute_result",
          "data": {
            "text/plain": [
              "{'id': 'b06-082-00-00',\n",
              " 'image_filepath': '/content/words/b06/b06-082/b06-082-00-00.png',\n",
              " 'text': 'The'}"
            ]
          },
          "metadata": {},
          "execution_count": 14
        }
      ]
    },
    {
      "cell_type": "code",
      "source": [
        "for index, word in enumerate(data):\n",
        "    image_filepath = word['image_filepath']\n",
        "    text = word['text']\n",
        "\n",
        "    # processing on image\n",
        "    img = cv2.imread(image_filepath, cv2.IMREAD_GRAYSCALE)\n",
        "\n",
        "    try:\n",
        "        img = process_image(img)\n",
        "    except:\n",
        "        continue\n",
        "\n",
        "    # processing on label\n",
        "    try:\n",
        "        label = encode_to_labels(text)\n",
        "    except:\n",
        "        continue\n",
        "    \n",
        "    # added this line to prevent error from CTC computation\n",
        "    if len(label) > 31:\n",
        "      continue\n",
        "    \n",
        "    if index % 10 == 0:\n",
        "        valid_images.append(img)\n",
        "        valid_labels.append(label)\n",
        "        valid_input_length.append(31)\n",
        "        valid_label_length.append(len(text))\n",
        "        valid_original_text.append(text)\n",
        "    else:\n",
        "        train_images.append(img)\n",
        "        train_labels.append(label)\n",
        "        train_input_length.append(31)\n",
        "        train_label_length.append(len(text))\n",
        "        train_original_text.append(text)\n",
        "    \n",
        "    if len(text) > MAX_LABEL_LEN:\n",
        "        MAX_LABEL_LEN = len(text)\n",
        "    \n",
        "    if index > SAMPLE_SIZE:\n",
        "        break"
      ],
      "metadata": {
        "id": "F4VIbVCgkWY1",
        "pycharm": {
          "name": "#%%\n"
        }
      },
      "execution_count": 15,
      "outputs": []
    },
    {
      "cell_type": "code",
      "source": [
        "train_padded_label = pad_sequences(train_labels, \n",
        "                             maxlen=MAX_LABEL_LEN, \n",
        "                             padding='post',\n",
        "                             value=len(CHAR_LIST))\n",
        "\n",
        "valid_padded_label = pad_sequences(valid_labels, \n",
        "                             maxlen=MAX_LABEL_LEN, \n",
        "                             padding='post',\n",
        "                             value=len(CHAR_LIST))"
      ],
      "metadata": {
        "id": "5z6wzecWnNsd",
        "pycharm": {
          "name": "#%%\n"
        }
      },
      "execution_count": 16,
      "outputs": []
    },
    {
      "cell_type": "code",
      "source": [
        "train_images = np.asarray(train_images)\n",
        "train_input_length = np.asarray(train_input_length)\n",
        "train_label_length = np.asarray(train_label_length)\n",
        "\n",
        "valid_images = np.asarray(valid_images)\n",
        "valid_input_length = np.asarray(valid_input_length)\n",
        "valid_label_length = np.asarray(valid_label_length)"
      ],
      "metadata": {
        "id": "aFsRsuayoSCX",
        "pycharm": {
          "name": "#%%\n"
        }
      },
      "execution_count": 17,
      "outputs": []
    },
    {
      "cell_type": "code",
      "source": [
        "train_images.shape, valid_images.shape"
      ],
      "metadata": {
        "colab": {
          "base_uri": "https://localhost:8080/"
        },
        "id": "jQDCbG_MrFp9",
        "outputId": "2eb1d81a-fc0b-4bce-e458-2bd85ba6ea9c",
        "pycharm": {
          "name": "#%%\n"
        }
      },
      "execution_count": null,
      "outputs": [
        {
          "output_type": "execute_result",
          "data": {
            "text/plain": [
              "((27486, 32, 128, 1), (3056, 32, 128, 1))"
            ]
          },
          "metadata": {},
          "execution_count": 18
        }
      ]
    },
    {
      "cell_type": "markdown",
      "source": [
        "# Model building"
      ],
      "metadata": {
        "id": "X-ZaDkNPoduV",
        "pycharm": {
          "name": "#%% md\n"
        }
      }
    },
    {
      "cell_type": "code",
      "source": [
        "# input with shape of height=32 and width=128 \n",
        "inputs = Input(shape=(32,128,1))\n",
        " \n",
        "# convolution layer with kernel size (3,3)\n",
        "conv_1 = Conv2D(64, (3,3), activation = 'relu', padding='same')(inputs)\n",
        "# poolig layer with kernel size (2,2)\n",
        "pool_1 = MaxPool2D(pool_size=(2, 2), strides=2)(conv_1)\n",
        " \n",
        "conv_2 = Conv2D(128, (3,3), activation = 'relu', padding='same')(pool_1)\n",
        "pool_2 = MaxPool2D(pool_size=(2, 2), strides=2)(conv_2)\n",
        " \n",
        "conv_3 = Conv2D(256, (3,3), activation = 'relu', padding='same')(pool_2)\n",
        " \n",
        "conv_4 = Conv2D(256, (3,3), activation = 'relu', padding='same')(conv_3)\n",
        "\n",
        "# poolig layer with kernel size (2,1)\n",
        "pool_4 = MaxPool2D(pool_size=(2, 1))(conv_4)\n",
        " \n",
        "conv_5 = Conv2D(512, (3,3), activation = 'relu', padding='same')(pool_4)\n",
        "\n",
        "# Batch normalization layer\n",
        "batch_norm_5 = BatchNormalization()(conv_5)\n",
        " \n",
        "conv_6 = Conv2D(512, (3,3), activation = 'relu', padding='same')(batch_norm_5)\n",
        "batch_norm_6 = BatchNormalization()(conv_6)\n",
        "pool_6 = MaxPool2D(pool_size=(2, 1))(batch_norm_6)\n",
        " \n",
        "conv_7 = Conv2D(512, (2,2), activation = 'relu')(pool_6)\n",
        " \n",
        "squeezed = Lambda(lambda x: K.squeeze(x, 1))(conv_7)\n",
        " \n",
        "# bidirectional LSTM layers with units=128\n",
        "blstm_1 = Bidirectional(LSTM(256, return_sequences=True, dropout = 0.2))(squeezed)\n",
        "blstm_2 = Bidirectional(LSTM(256, return_sequences=True, dropout = 0.2))(blstm_1)\n",
        " \n",
        "outputs = Dense(len(CHAR_LIST)+1, activation = 'softmax')(blstm_2)\n",
        "\n",
        "# model to be used at test time\n",
        "act_model = Model(inputs, outputs)"
      ],
      "metadata": {
        "id": "MmYMMOnjocKB",
        "pycharm": {
          "name": "#%%\n"
        }
      },
      "execution_count": null,
      "outputs": []
    },
    {
      "cell_type": "code",
      "source": [
        "the_labels = Input(name='the_labels', shape=[MAX_LABEL_LEN], dtype='float32')\n",
        "input_length = Input(name='input_length', shape=[1], dtype='int64')\n",
        "label_length = Input(name='label_length', shape=[1], dtype='int64')\n",
        "\n",
        "def ctc_lambda_func(args):\n",
        "    y_pred, labels, input_length, label_length = args\n",
        "    \n",
        "    return K.ctc_batch_cost(labels, y_pred, input_length, label_length)\n",
        "\n",
        "loss_out = Lambda(ctc_lambda_func, output_shape=(1,), name='ctc')([outputs, the_labels, input_length, label_length])\n",
        "\n",
        "#model to be used at training time\n",
        "model = Model(inputs=[inputs, the_labels, input_length, label_length], outputs=loss_out)"
      ],
      "metadata": {
        "id": "jhZ8dH4poh1F",
        "pycharm": {
          "name": "#%%\n"
        }
      },
      "execution_count": null,
      "outputs": []
    },
    {
      "cell_type": "code",
      "source": [
        "model.compile(loss={'ctc': lambda y_true, y_pred: y_pred}, optimizer = OPTIMIZER_NAME, metrics=['accuracy'])\n",
        "\n",
        "now = datetime.now()\n",
        "date_time = now.strftime(\"%m_%d_%Y_%H%M%S\")\n",
        "filepath=f\"HTR_Using_CRNN/Model/{date_time}.hdf5\"\n",
        "\n",
        "# Callback to monitor val loss\n",
        "checkpoint = ModelCheckpoint(filepath=filepath, monitor='val_loss', verbose=1, save_best_only=True, mode='auto')\n",
        "earlystopping = EarlyStopping(patience=5, monitor='val_loss', min_delta=0, mode='min')\n",
        "lr_scheduler = ReduceLROnPlateau(monitor='val_loss', factor=0.1, patience=3)\n",
        "\n",
        "callbacks_list = [earlystopping, lr_scheduler, checkpoint]"
      ],
      "metadata": {
        "id": "IVQvY4kwolQ-",
        "pycharm": {
          "name": "#%%\n"
        }
      },
      "execution_count": null,
      "outputs": []
    },
    {
      "cell_type": "code",
      "source": [
        "history = model.fit(x=[train_images, train_padded_label, train_input_length, train_label_length],\n",
        "                    y=np.zeros(len(train_images)),\n",
        "                    batch_size=BATCH_SIZE, \n",
        "                    epochs=EPOCHS, \n",
        "                    validation_data=([valid_images, valid_padded_label, valid_input_length, valid_label_length], [np.zeros(len(valid_images))]),\n",
        "                    verbose=2,\n",
        "                    callbacks=callbacks_list)"
      ],
      "metadata": {
        "colab": {
          "base_uri": "https://localhost:8080/"
        },
        "id": "QJx6rbOGouvc",
        "outputId": "438fcc6c-64b4-497b-b70f-b586afd6d8f5",
        "pycharm": {
          "name": "#%%\n"
        }
      },
      "execution_count": null,
      "outputs": [
        {
          "output_type": "stream",
          "name": "stdout",
          "text": [
            "Epoch 1/30\n",
            "\n",
            "Epoch 1: val_loss improved from inf to 7.03761, saving model to HTR_Using_CRNN/Model/11_08_2022_185133.hdf5\n",
            "3436/3436 - 102s - loss: 10.6935 - accuracy: 0.0470 - val_loss: 7.0376 - val_accuracy: 0.1518 - lr: 0.0100 - 102s/epoch - 30ms/step\n",
            "Epoch 2/30\n",
            "\n",
            "Epoch 2: val_loss improved from 7.03761 to 4.08289, saving model to HTR_Using_CRNN/Model/11_08_2022_185133.hdf5\n",
            "3436/3436 - 91s - loss: 5.0902 - accuracy: 0.2220 - val_loss: 4.0829 - val_accuracy: 0.2997 - lr: 0.0100 - 91s/epoch - 27ms/step\n",
            "Epoch 3/30\n",
            "\n",
            "Epoch 3: val_loss improved from 4.08289 to 3.30964, saving model to HTR_Using_CRNN/Model/11_08_2022_185133.hdf5\n",
            "3436/3436 - 90s - loss: 3.4353 - accuracy: 0.3288 - val_loss: 3.3096 - val_accuracy: 0.3609 - lr: 0.0100 - 90s/epoch - 26ms/step\n",
            "Epoch 4/30\n",
            "\n",
            "Epoch 4: val_loss did not improve from 3.30964\n",
            "3436/3436 - 88s - loss: 2.6837 - accuracy: 0.4085 - val_loss: 3.5014 - val_accuracy: 0.3622 - lr: 0.0100 - 88s/epoch - 26ms/step\n",
            "Epoch 5/30\n",
            "\n",
            "Epoch 5: val_loss improved from 3.30964 to 2.98983, saving model to HTR_Using_CRNN/Model/11_08_2022_185133.hdf5\n",
            "3436/3436 - 92s - loss: 2.1649 - accuracy: 0.4730 - val_loss: 2.9898 - val_accuracy: 0.4653 - lr: 0.0100 - 92s/epoch - 27ms/step\n",
            "Epoch 6/30\n",
            "\n",
            "Epoch 6: val_loss improved from 2.98983 to 2.51895, saving model to HTR_Using_CRNN/Model/11_08_2022_185133.hdf5\n",
            "3436/3436 - 90s - loss: 1.7818 - accuracy: 0.5359 - val_loss: 2.5190 - val_accuracy: 0.5232 - lr: 0.0100 - 90s/epoch - 26ms/step\n",
            "Epoch 7/30\n",
            "\n",
            "Epoch 7: val_loss did not improve from 2.51895\n",
            "3436/3436 - 90s - loss: 1.4792 - accuracy: 0.5939 - val_loss: 2.5456 - val_accuracy: 0.5255 - lr: 0.0100 - 90s/epoch - 26ms/step\n",
            "Epoch 8/30\n",
            "\n",
            "Epoch 8: val_loss improved from 2.51895 to 2.51438, saving model to HTR_Using_CRNN/Model/11_08_2022_185133.hdf5\n",
            "3436/3436 - 87s - loss: 1.2340 - accuracy: 0.6431 - val_loss: 2.5144 - val_accuracy: 0.5602 - lr: 0.0100 - 87s/epoch - 25ms/step\n",
            "Epoch 9/30\n",
            "\n",
            "Epoch 9: val_loss did not improve from 2.51438\n",
            "3436/3436 - 88s - loss: 0.9894 - accuracy: 0.6986 - val_loss: 2.5680 - val_accuracy: 0.5540 - lr: 0.0100 - 88s/epoch - 26ms/step\n",
            "Epoch 10/30\n",
            "\n",
            "Epoch 10: val_loss did not improve from 2.51438\n",
            "3436/3436 - 88s - loss: 0.8315 - accuracy: 0.7359 - val_loss: 2.6689 - val_accuracy: 0.5795 - lr: 0.0100 - 88s/epoch - 26ms/step\n",
            "Epoch 11/30\n",
            "\n",
            "Epoch 11: val_loss did not improve from 2.51438\n",
            "3436/3436 - 88s - loss: 0.7054 - accuracy: 0.7692 - val_loss: 2.6801 - val_accuracy: 0.5870 - lr: 0.0100 - 88s/epoch - 26ms/step\n",
            "Epoch 12/30\n",
            "\n",
            "Epoch 12: val_loss improved from 2.51438 to 2.45536, saving model to HTR_Using_CRNN/Model/11_08_2022_185133.hdf5\n",
            "3436/3436 - 88s - loss: 0.4328 - accuracy: 0.8556 - val_loss: 2.4554 - val_accuracy: 0.6243 - lr: 1.0000e-03 - 88s/epoch - 26ms/step\n",
            "Epoch 13/30\n",
            "\n",
            "Epoch 13: val_loss did not improve from 2.45536\n",
            "3436/3436 - 88s - loss: 0.3408 - accuracy: 0.8922 - val_loss: 2.4888 - val_accuracy: 0.6289 - lr: 1.0000e-03 - 88s/epoch - 25ms/step\n",
            "Epoch 14/30\n",
            "\n",
            "Epoch 14: val_loss did not improve from 2.45536\n",
            "3436/3436 - 87s - loss: 0.2947 - accuracy: 0.9098 - val_loss: 2.5142 - val_accuracy: 0.6355 - lr: 1.0000e-03 - 87s/epoch - 25ms/step\n",
            "Epoch 15/30\n",
            "\n",
            "Epoch 15: val_loss did not improve from 2.45536\n",
            "3436/3436 - 89s - loss: 0.2695 - accuracy: 0.9213 - val_loss: 2.5434 - val_accuracy: 0.6384 - lr: 1.0000e-03 - 89s/epoch - 26ms/step\n",
            "Epoch 16/30\n",
            "\n",
            "Epoch 16: val_loss did not improve from 2.45536\n",
            "3436/3436 - 88s - loss: 0.2454 - accuracy: 0.9279 - val_loss: 2.5457 - val_accuracy: 0.6381 - lr: 1.0000e-04 - 88s/epoch - 26ms/step\n",
            "Epoch 17/30\n",
            "\n",
            "Epoch 17: val_loss did not improve from 2.45536\n",
            "3436/3436 - 87s - loss: 0.2425 - accuracy: 0.9287 - val_loss: 2.5505 - val_accuracy: 0.6394 - lr: 1.0000e-04 - 87s/epoch - 25ms/step\n"
          ]
        }
      ]
    },
    {
      "cell_type": "markdown",
      "source": [
        "# Generate Test Set for Writer 10011"
      ],
      "metadata": {
        "id": "FfrjWyf6WK48"
      }
    },
    {
      "cell_type": "code",
      "source": [
        "import glob\n",
        "\n",
        "test_images = []\n",
        "test_labels = []\n",
        "test_input_length = []\n",
        "test_label_length = []\n",
        "test_original_text = []\n",
        "\n",
        "def extract_real_handwriting(label_dir):\n",
        "    words = []\n",
        "    label_files = glob.glob(f\"{label_dir}/*.txt\")\n",
        "\n",
        "    for label_filepath in label_files:\n",
        "      text_id = osp.splitext(osp.basename(label_filepath))[0]\n",
        "      \n",
        "      # read in the txt file\n",
        "      label = None\n",
        "      with open(label_filepath, encoding=\"utf-8\") as f:\n",
        "        label = f.read().strip()\n",
        "      \n",
        "      # check if label is read in correctly\n",
        "      assert label is not None, \"Unable to detect label\"\n",
        "      \n",
        "      image_filepath = osp.join(label_dir, f\"{text_id}.png\")\n",
        "      if not osp.isfile(image_filepath):\n",
        "          raise Exception(f\"{image_filepath} not found.\")\n",
        "\n",
        "      words.append({\n",
        "          'id': text_id,\n",
        "          'image_filepath': image_filepath,\n",
        "          'text': label\n",
        "      })\n",
        "    \n",
        "    return words"
      ],
      "metadata": {
        "id": "gNh-hmUEWJ7M"
      },
      "execution_count": null,
      "outputs": []
    },
    {
      "cell_type": "code",
      "source": [
        "test_data = extract_real_handwriting(\"/content/Real_HandWriting/Real_HandWriting\")"
      ],
      "metadata": {
        "id": "elOFsRxFXClP"
      },
      "execution_count": null,
      "outputs": []
    },
    {
      "cell_type": "code",
      "source": [
        "for index, word in enumerate(test_data):\n",
        "    image_filepath = word['image_filepath']\n",
        "    text = word['text']\n",
        "\n",
        "    # processing on image\n",
        "    img = cv2.imread(image_filepath, cv2.IMREAD_GRAYSCALE)\n",
        "\n",
        "    try:\n",
        "        img = process_image(img)\n",
        "    except:\n",
        "        raise Exception(\"Unable to process image\")\n",
        "\n",
        "    # processing on label\n",
        "    try:\n",
        "        label = encode_to_labels(text)\n",
        "    except Exception as e:\n",
        "        raise Exception(\"Unable to process label\")\n",
        "    \n",
        "    # added this line to prevent error from CTC computation\n",
        "    if len(label) > 31:\n",
        "      continue\n",
        "    \n",
        "    test_images.append(img)\n",
        "    test_labels.append(label)\n",
        "    test_input_length.append(31)\n",
        "    test_label_length.append(len(text))\n",
        "    test_original_text.append(text)"
      ],
      "metadata": {
        "id": "oRoD094GW06x"
      },
      "execution_count": null,
      "outputs": []
    },
    {
      "cell_type": "code",
      "source": [
        "test_padded_label = pad_sequences(test_labels, \n",
        "                             maxlen=MAX_LABEL_LEN, \n",
        "                             padding='post',\n",
        "                             value=len(CHAR_LIST))\n",
        "\n",
        "test_images = np.asarray(test_images)\n",
        "test_input_length = np.asarray(test_input_length)\n",
        "test_label_length = np.asarray(test_label_length)"
      ],
      "metadata": {
        "id": "B3azYdSwXa4C"
      },
      "execution_count": null,
      "outputs": []
    },
    {
      "cell_type": "code",
      "source": [
        "test_images.shape"
      ],
      "metadata": {
        "id": "l2aLlYgmXyAS",
        "outputId": "cca83ea9-5376-4080-d7c2-57a26f108cf8",
        "colab": {
          "base_uri": "https://localhost:8080/"
        }
      },
      "execution_count": null,
      "outputs": [
        {
          "output_type": "execute_result",
          "data": {
            "text/plain": [
              "(282, 32, 128, 1)"
            ]
          },
          "metadata": {},
          "execution_count": 27
        }
      ]
    },
    {
      "cell_type": "code",
      "source": [
        "from google.colab.patches import cv2_imshow\n",
        "\n",
        "cv2_imshow(test_images[0])"
      ],
      "metadata": {
        "id": "I68CyneFX695",
        "outputId": "78e9bdbd-c226-4138-b9d7-a05c5af7e45c",
        "colab": {
          "base_uri": "https://localhost:8080/",
          "height": 49
        }
      },
      "execution_count": null,
      "outputs": [
        {
          "output_type": "display_data",
          "data": {
            "text/plain": [
              "<PIL.Image.Image image mode=RGB size=128x32 at 0x7F71F9721210>"
            ],
            "image/png": "[encoded data removed]"
          },
          "metadata": {}
        }
      ]
    },
    {
      "cell_type": "markdown",
      "source": [
        "# Benchmark - Character Error Rate"
      ],
      "metadata": {
        "id": "PGzpVtNWo7zH",
        "pycharm": {
          "name": "#%% md\n"
        }
      }
    },
    {
      "cell_type": "code",
      "source": [
        "def levenshtein_distance(s, t):\n",
        "    dp = [[0 for i in range(len(t)+1)] for j in range(len(s)+1)]\n",
        "    \n",
        "    # fill in the border, can only be insert\n",
        "    for i in range(1, len(dp)):\n",
        "        dp[i][0] = i\n",
        "    for j in range(1, len(dp[0])):\n",
        "        dp[0][j] = j\n",
        "    \n",
        "    # s is vertical, t is horizontal\n",
        "    for i in range(1, len(dp)):\n",
        "        for j in range(1, len(dp[i])):\n",
        "            if s[i-1] == t[j-1]:\n",
        "                dp[i][j] = dp[i-1][j-1]\n",
        "            else:\n",
        "                dp[i][j] = 1 + min(dp[i][j-1],        # Insert\n",
        "                                   dp[i-1][j],        # Remove\n",
        "                                   dp[i-1][j-1])      # Replace\n",
        "\n",
        "    return dp[len(s)][len(t)]"
      ],
      "metadata": {
        "id": "7NfggdL5ow_9",
        "pycharm": {
          "name": "#%%\n"
        }
      },
      "execution_count": null,
      "outputs": []
    },
    {
      "cell_type": "code",
      "source": [
        "# predict outputs on validation images\n",
        "act_model.load_weights(filepath)\n",
        "prediction = act_model.predict(test_images)"
      ],
      "metadata": {
        "colab": {
          "base_uri": "https://localhost:8080/"
        },
        "id": "cSeEZM1xpAAc",
        "outputId": "e1edce5e-0b52-4001-8c78-cec4e7a431c9",
        "pycharm": {
          "name": "#%%\n"
        }
      },
      "execution_count": null,
      "outputs": [
        {
          "output_type": "stream",
          "name": "stdout",
          "text": [
            "9/9 [==============================] - 3s 102ms/step\n"
          ]
        }
      ]
    },
    {
      "cell_type": "code",
      "source": [
        "# use CTC decoder\n",
        "decoded = K.ctc_decode(prediction, \n",
        "                       input_length=np.ones(prediction.shape[0]) * prediction.shape[1],\n",
        "                       greedy=True)[0][0]\n",
        "\n",
        "out = K.get_value(decoded)\n",
        "\n",
        "total_character = 0\n",
        "edit_distance = 0\n",
        "# see the results (the lower CER the better)\n",
        "for i, x in enumerate(out):\n",
        "    original_text = test_original_text[i]\n",
        "    letters=''    \n",
        "    for p in x:\n",
        "        if int(p) != -1:\n",
        "            letters += CHAR_LIST[int(p)]\n",
        "            total_character += 1\n",
        "\n",
        "    edit_cost = levenshtein_distance(original_text, letters)\n",
        "    edit_distance += edit_cost\n",
        "\n",
        "    if i % 70 == 0:\n",
        "        print(\"edit distance = \", edit_cost)\n",
        "        print(\"original_text =  \", original_text)\n",
        "        print(\"predicted text = \", end = '')\n",
        "        for p in x:\n",
        "            if int(p) != -1:\n",
        "                print(CHAR_LIST[int(p)], end = '')\n",
        "        plt.imshow(test_images[i].reshape(32,128), cmap=plt.cm.gray)\n",
        "        plt.show()\n",
        "        print('\\n')"
      ],
      "metadata": {
        "colab": {
          "base_uri": "https://localhost:8080/",
          "height": 1000
        },
        "id": "RifnisXlpBl0",
        "outputId": "5d5c200e-72b0-4f63-e4e8-656269fbac97",
        "pycharm": {
          "name": "#%%\n"
        }
      },
      "execution_count": null,
      "outputs": [
        {
          "output_type": "stream",
          "name": "stdout",
          "text": [
            "edit distance =  0\n",
            "original_text =   be\n",
            "predicted text = be"
          ]
        },
        {
          "output_type": "display_data",
          "data": {
            "text/plain": [
              "<Figure size 432x288 with 1 Axes>"
            ],
            "image/png": "[encoded data removed]"
          },
          "metadata": {
            "needs_background": "light"
          }
        },
        {
          "output_type": "stream",
          "name": "stdout",
          "text": [
            "\n",
            "\n",
            "edit distance =  0\n",
            "original_text =   is\n",
            "predicted text = is"
          ]
        },
        {
          "output_type": "display_data",
          "data": {
            "text/plain": [
              "<Figure size 432x288 with 1 Axes>"
            ],
            "image/png": "[encoded data removed]"
          },
          "metadata": {
            "needs_background": "light"
          }
        },
        {
          "output_type": "stream",
          "name": "stdout",
          "text": [
            "\n",
            "\n",
            "edit distance =  2\n",
            "original_text =   strangly\n",
            "predicted text = stcongly"
          ]
        },
        {
          "output_type": "display_data",
          "data": {
            "text/plain": [
              "<Figure size 432x288 with 1 Axes>"
            ],
            "image/png": "[encoded data removed]"
          },
          "metadata": {
            "needs_background": "light"
          }
        },
        {
          "output_type": "stream",
          "name": "stdout",
          "text": [
            "\n",
            "\n",
            "edit distance =  2\n",
            "original_text =   began\n",
            "predicted text = jogan"
          ]
        },
        {
          "output_type": "display_data",
          "data": {
            "text/plain": [
              "<Figure size 432x288 with 1 Axes>"
            ],
            "image/png": "[encoded data removed]"
          },
          "metadata": {
            "needs_background": "light"
          }
        },
        {
          "output_type": "stream",
          "name": "stdout",
          "text": [
            "\n",
            "\n",
            "edit distance =  2\n",
            "original_text =   would\n",
            "predicted text = wovid"
          ]
        },
        {
          "output_type": "display_data",
          "data": {
            "text/plain": [
              "<Figure size 432x288 with 1 Axes>"
            ],
            "image/png": "[encoded data removed]"
          },
          "metadata": {
            "needs_background": "light"
          }
        },
        {
          "output_type": "stream",
          "name": "stdout",
          "text": [
            "\n",
            "\n"
          ]
        }
      ]
    },
    {
      "cell_type": "code",
      "source": [
        "print(\"CER: \", edit_distance/total_character)\n",
        "print(\"Total edits: \", edit_distance)\n",
        "print(\"Total Character: \", total_character)"
      ],
      "metadata": {
        "colab": {
          "base_uri": "https://localhost:8080/"
        },
        "id": "DF5bFUuXpFcY",
        "outputId": "d3ff7205-4fcc-4be4-d66f-dc0358465403",
        "pycharm": {
          "name": "#%%\n"
        }
      },
      "execution_count": null,
      "outputs": [
        {
          "output_type": "stream",
          "name": "stdout",
          "text": [
            "CER:  0.2125748502994012\n",
            "Total edits:  284\n",
            "Total Character:  1336\n"
          ]
        }
      ]
    },
    {
      "cell_type": "code",
      "source": [],
      "metadata": {
        "id": "845zJwDGpHRG",
        "pycharm": {
          "name": "#%%\n"
        }
      },
      "execution_count": null,
      "outputs": []
    }
  ],
  "metadata": {
    "accelerator": "GPU",
    "colab": {
      "collapsed_sections": [],
      "provenance": [],
      "include_colab_link": true
    },
    "kernelspec": {
      "display_name": "Python 3",
      "name": "python3"
    },
    "language_info": {
      "name": "python"
    }
  },
  "nbformat": 4,
  "nbformat_minor": 0
}