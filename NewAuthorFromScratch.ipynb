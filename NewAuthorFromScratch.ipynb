{
  "nbformat": 4,
  "nbformat_minor": 0,
  "metadata": {
    "colab": {
      "provenance": [],
      "authorship_tag": "ABX9TyP1I8gX/ZdWFDWtmO2KaqaW",
      "include_colab_link": true
    },
    "kernelspec": {
      "name": "python3",
      "display_name": "Python 3"
    },
    "language_info": {
      "name": "python"
    },
    "accelerator": "GPU",
    "gpuClass": "standard"
  },
  "cells": [
    {
      "cell_type": "markdown",
      "metadata": {
        "id": "view-in-github",
        "colab_type": "text"
      },
      "source": [
        "<a href=\"https://colab.research.google.com/github/kaicong12/CRNN-HandWriting-Recognition/blob/main/NewAuthorFromScratch.ipynb\" target=\"_parent\"><img src=\"https://colab.research.google.com/assets/colab-badge.svg\" alt=\"Open In Colab\"/></a>"
      ]
    },
    {
      "cell_type": "code",
      "execution_count": 1,
      "metadata": {
        "colab": {
          "base_uri": "https://localhost:8080/"
        },
        "id": "Ba8SVjkQH532",
        "outputId": "234adf83-79d9-49ff-d18e-37a3587601c3"
      },
      "outputs": [
        {
          "output_type": "stream",
          "name": "stdout",
          "text": [
            "Mounted at /content/gdrive\n"
          ]
        }
      ],
      "source": [
        "from google.colab import drive\n",
        "\n",
        "drive.mount('/content/gdrive')"
      ]
    },
    {
      "cell_type": "code",
      "source": [
        "!mkdir -p words xml HTR_Using_CRNN/Model\n",
        "!unzip -qq \"/content/gdrive/MyDrive/Colab Notebooks/biased_ref.zip\" -d \"/content/biased_ref\""
      ],
      "metadata": {
        "id": "PF7oYb2kKL6H"
      },
      "execution_count": 2,
      "outputs": []
    },
    {
      "cell_type": "code",
      "source": [
        "import numpy as np\n",
        "import cv2\n",
        "import os\n",
        "import os.path as osp\n",
        "import glob\n",
        "import pandas as pd\n",
        "import string\n",
        "import matplotlib.pyplot as plt\n",
        "from datetime import datetime\n",
        "import xml.etree.cElementTree as et\n",
        "\n",
        "from keras_preprocessing.sequence import pad_sequences\n",
        "from keras.layers import Dense, LSTM, Reshape, BatchNormalization, Input, Conv2D, MaxPool2D, Lambda, Bidirectional\n",
        "from keras.models import Model\n",
        "import keras.backend as K\n",
        "from keras.callbacks import ModelCheckpoint, EarlyStopping, ReduceLROnPlateau"
      ],
      "metadata": {
        "id": "anIDMedGN8rc"
      },
      "execution_count": 3,
      "outputs": []
    },
    {
      "cell_type": "markdown",
      "source": [
        "# Global Variables"
      ],
      "metadata": {
        "id": "Y2Wpt2RtOx6N"
      }
    },
    {
      "cell_type": "code",
      "source": [
        "# dataset related variables\n",
        "MAX_LABEL_LEN = 0\n",
        "CHAR_LIST = \"!\\\"#&'()*+,-./0123456789:;?ABCDEFGHIJKLMNOPQRSTUVWXYZabcdefghijklmnopqrstuvwxyz\"\n",
        "train_images = []\n",
        "train_labels = []\n",
        "train_input_length = []\n",
        "train_label_length = []\n",
        "train_original_text = []\n",
        "\n",
        "valid_images = []\n",
        "valid_labels = []\n",
        "valid_input_length = []\n",
        "valid_label_length = []\n",
        "valid_original_text = []\n",
        "\n",
        "inputs_length = []\n",
        "labels_length = []\n",
        "\n",
        "\n",
        "# model related variables\n",
        "BATCH_SIZE = 8\n",
        "EPOCHS = 30\n",
        "E = str(EPOCHS)\n",
        "OPTIMIZER_NAME = 'sgd'"
      ],
      "metadata": {
        "id": "JE-6OA_NOxu5"
      },
      "execution_count": 22,
      "outputs": []
    },
    {
      "cell_type": "code",
      "source": [
        "def extract_from_biased_ref(directory):\n",
        "    words = []\n",
        "    label_files = glob.glob(f\"{directory}/*.png\")\n",
        "\n",
        "    for label_filepath in label_files:\n",
        "        text = osp.splitext(label_filepath.split(\"_\")[-1])[0]\n",
        "        \n",
        "        words.append({\n",
        "            'image_filepath': label_filepath,\n",
        "            'text': text\n",
        "        })\n",
        "    \n",
        "    return words"
      ],
      "metadata": {
        "id": "HBdkMz0HL6Gy"
      },
      "execution_count": 5,
      "outputs": []
    },
    {
      "cell_type": "code",
      "source": [
        "data = extract_from_biased_ref(\"/content/biased_ref/biased_ref\")"
      ],
      "metadata": {
        "id": "AKiJEQFDN5UG"
      },
      "execution_count": 6,
      "outputs": []
    },
    {
      "cell_type": "code",
      "source": [
        "data[0]"
      ],
      "metadata": {
        "colab": {
          "base_uri": "https://localhost:8080/"
        },
        "id": "6gl-RiApOLFS",
        "outputId": "3a5945e0-d618-4959-837f-0e9ea38890d7"
      },
      "execution_count": 7,
      "outputs": [
        {
          "output_type": "execute_result",
          "data": {
            "text/plain": [
              "{'image_filepath': '/content/biased_ref/biased_ref/synthetic_biased_ref(10423)_branniness.png',\n",
              " 'text': 'branniness'}"
            ]
          },
          "metadata": {},
          "execution_count": 7
        }
      ]
    },
    {
      "cell_type": "code",
      "source": [
        "# string.ascii_letters + string.digits (Chars & Digits)\n",
        "# or \n",
        "# \"!\\\"#&'()*+,-./0123456789:;?ABCDEFGHIJKLMNOPQRSTUVWXYZabcdefghijklmnopqrstuvwxyz\"\n",
        "\n",
        "def encode_to_labels(txt):\n",
        "    # encoding each output word into digits\n",
        "    dig_lst = []\n",
        "    for index, chara in enumerate(txt):\n",
        "        dig_lst.append(CHAR_LIST.index(chara))\n",
        "        \n",
        "    return dig_lst"
      ],
      "metadata": {
        "id": "xqFNjNh8Ojy9"
      },
      "execution_count": 8,
      "outputs": []
    },
    {
      "cell_type": "code",
      "source": [
        "def process_image(img):\n",
        "    \"\"\"\n",
        "    Converts image to shape (32, 128, 1) & normalize\n",
        "    \"\"\"\n",
        "    w, h = img.shape\n",
        "    \n",
        "#     _, img = cv2.threshold(img, \n",
        "#                            128, \n",
        "#                            255, \n",
        "#                            cv2.THRESH_BINARY | cv2.THRESH_OTSU)\n",
        "    \n",
        "    # Aspect Ratio Calculation\n",
        "    new_w = 32\n",
        "    new_h = int(h * (new_w / w))\n",
        "    img = cv2.resize(img, (new_h, new_w))\n",
        "    w, h = img.shape\n",
        "    \n",
        "    img = img.astype('float32')\n",
        "    \n",
        "    # Converts each to (32, 128, 1)\n",
        "    if w < 32:\n",
        "        add_zeros = np.full((32-w, h), 255)\n",
        "        img = np.concatenate((img, add_zeros))\n",
        "        w, h = img.shape\n",
        "    \n",
        "    if h < 128:\n",
        "        add_zeros = np.full((w, 128-h), 255)\n",
        "        img = np.concatenate((img, add_zeros), axis=1)\n",
        "        w, h = img.shape\n",
        "        \n",
        "    if h > 128 or w > 32:\n",
        "        dim = (128,32)\n",
        "        img = cv2.resize(img, dim)\n",
        "    \n",
        "    img = cv2.subtract(255, img)\n",
        "    \n",
        "    img = np.expand_dims(img, axis=2)\n",
        "    \n",
        "    # Normalize \n",
        "    cv2.normalize(img, dst=None, alpha=0, beta=255, norm_type=cv2.NORM_MINMAX, dtype=cv2.CV_32F)\n",
        "    \n",
        "    return img"
      ],
      "metadata": {
        "id": "3CeuJhLvO2eF"
      },
      "execution_count": 9,
      "outputs": []
    },
    {
      "cell_type": "code",
      "source": [
        "for index, word in enumerate(data):\n",
        "    image_filepath = word['image_filepath']\n",
        "    text = word['text']\n",
        "\n",
        "    # processing on image\n",
        "    img = cv2.imread(image_filepath, cv2.IMREAD_GRAYSCALE)\n",
        "\n",
        "    try:\n",
        "        img = process_image(img)\n",
        "    except:\n",
        "        raise Exception(\"Unable to process image\")\n",
        "\n",
        "    # processing on label\n",
        "    try:\n",
        "        label = encode_to_labels(text)\n",
        "    except:\n",
        "        raise Exception(\"Unable to process label\")\n",
        "    \n",
        "    # added this line to prevent error from CTC computation\n",
        "    if len(label) > 31:\n",
        "      continue\n",
        "    \n",
        "    if index % 10 == 0:\n",
        "        valid_images.append(img)\n",
        "        valid_labels.append(label)\n",
        "        valid_input_length.append(31)\n",
        "        valid_label_length.append(len(text))\n",
        "        valid_original_text.append(text)\n",
        "    else:\n",
        "        train_images.append(img)\n",
        "        train_labels.append(label)\n",
        "        train_input_length.append(31)\n",
        "        train_label_length.append(len(text))\n",
        "        train_original_text.append(text)\n",
        "    \n",
        "    if len(text) > MAX_LABEL_LEN:\n",
        "        MAX_LABEL_LEN = len(text)"
      ],
      "metadata": {
        "id": "G6UCvyO0PF5g"
      },
      "execution_count": 25,
      "outputs": []
    },
    {
      "cell_type": "code",
      "source": [
        "train_padded_labels = pad_sequences(train_labels, \n",
        "                      maxlen=MAX_LABEL_LEN, \n",
        "                      padding='post',\n",
        "                      value=len(CHAR_LIST))\n",
        "\n",
        "valid_padded_labels = pad_sequences(valid_labels, \n",
        "                      maxlen=MAX_LABEL_LEN, \n",
        "                      padding='post',\n",
        "                      value=len(CHAR_LIST))\n",
        "\n",
        "# Convert to numpy array.\n",
        "train_images = np.asarray(train_images)\n",
        "train_input_length = np.asarray(train_input_length)\n",
        "train_label_length = np.asarray(train_label_length)\n",
        "\n",
        "valid_images = np.asarray(valid_images)\n",
        "valid_input_length = np.asarray(valid_input_length)\n",
        "valid_label_length = np.asarray(valid_label_length)"
      ],
      "metadata": {
        "id": "3Gn4XhVKPaF9"
      },
      "execution_count": 26,
      "outputs": []
    },
    {
      "cell_type": "markdown",
      "source": [
        "# Model Building"
      ],
      "metadata": {
        "id": "Oi4PVxnZPnle"
      }
    },
    {
      "cell_type": "code",
      "source": [
        "# input with shape of height=32 and width=128 \n",
        "inputs = Input(shape=(32,128,1))\n",
        " \n",
        "# convolution layer with kernel size (3,3)\n",
        "conv_1 = Conv2D(64, (3,3), activation = 'relu', padding='same')(inputs)\n",
        "# poolig layer with kernel size (2,2)\n",
        "pool_1 = MaxPool2D(pool_size=(2, 2), strides=2)(conv_1)\n",
        " \n",
        "conv_2 = Conv2D(128, (3,3), activation = 'relu', padding='same')(pool_1)\n",
        "pool_2 = MaxPool2D(pool_size=(2, 2), strides=2)(conv_2)\n",
        " \n",
        "conv_3 = Conv2D(256, (3,3), activation = 'relu', padding='same')(pool_2)\n",
        " \n",
        "conv_4 = Conv2D(256, (3,3), activation = 'relu', padding='same')(conv_3)\n",
        "\n",
        "# poolig layer with kernel size (2,1)\n",
        "pool_4 = MaxPool2D(pool_size=(2, 1))(conv_4)\n",
        " \n",
        "conv_5 = Conv2D(512, (3,3), activation = 'relu', padding='same')(pool_4)\n",
        "\n",
        "# Batch normalization layer\n",
        "batch_norm_5 = BatchNormalization()(conv_5)\n",
        " \n",
        "conv_6 = Conv2D(512, (3,3), activation = 'relu', padding='same')(batch_norm_5)\n",
        "batch_norm_6 = BatchNormalization()(conv_6)\n",
        "pool_6 = MaxPool2D(pool_size=(2, 1))(batch_norm_6)\n",
        " \n",
        "conv_7 = Conv2D(512, (2,2), activation = 'relu')(pool_6)\n",
        " \n",
        "squeezed = Lambda(lambda x: K.squeeze(x, 1))(conv_7)\n",
        " \n",
        "# bidirectional LSTM layers with units=128\n",
        "blstm_1 = Bidirectional(LSTM(256, return_sequences=True, dropout = 0.2))(squeezed)\n",
        "blstm_2 = Bidirectional(LSTM(256, return_sequences=True, dropout = 0.2))(blstm_1)\n",
        " \n",
        "outputs = Dense(len(CHAR_LIST)+1, activation = 'softmax')(blstm_2)\n",
        "\n",
        "# model to be used at test time\n",
        "act_model = Model(inputs, outputs)"
      ],
      "metadata": {
        "id": "ZUp8QTXSPgX7"
      },
      "execution_count": 12,
      "outputs": []
    },
    {
      "cell_type": "markdown",
      "source": [
        "# Loss Function"
      ],
      "metadata": {
        "id": "aZVktMR6PuHw"
      }
    },
    {
      "cell_type": "code",
      "source": [
        "the_labels = Input(name='the_labels', shape=[MAX_LABEL_LEN], dtype='float32')\n",
        "input_length = Input(name='input_length', shape=[1], dtype='int64')\n",
        "label_length = Input(name='label_length', shape=[1], dtype='int64')\n",
        "\n",
        "def ctc_lambda_func(args):\n",
        "    y_pred, labels, input_length, label_length = args\n",
        "    \n",
        "    return K.ctc_batch_cost(labels, y_pred, input_length, label_length)\n",
        "\n",
        "loss_out = Lambda(ctc_lambda_func, output_shape=(1,), name='ctc')([outputs, the_labels, input_length, label_length])\n",
        "\n",
        "#model to be used at training time\n",
        "model = Model(inputs=[inputs, the_labels, input_length, label_length], outputs=loss_out)"
      ],
      "metadata": {
        "id": "RRq4IHU0PpHx"
      },
      "execution_count": 13,
      "outputs": []
    },
    {
      "cell_type": "code",
      "source": [
        "model.compile(loss={'ctc': lambda y_true, y_pred: y_pred}, optimizer = OPTIMIZER_NAME, metrics=['accuracy'])\n",
        "\n",
        "now = datetime.now()\n",
        "date_time = now.strftime(\"%m_%d_%Y_%H%M%S\")\n",
        "filepath=f\"HTR_Using_CRNN/Model/{date_time}.hdf5\"\n",
        "\n",
        "checkpoint = ModelCheckpoint(filepath=filepath, monitor='val_loss', verbose=1, save_best_only=True, mode='auto')\n",
        "callbacks_list = [checkpoint]"
      ],
      "metadata": {
        "id": "gRbpVPU2Pwyq"
      },
      "execution_count": 14,
      "outputs": []
    },
    {
      "cell_type": "code",
      "source": [
        "history = model.fit(x=[train_images, train_padded_labels, train_input_length, train_label_length],\n",
        "                    y=np.zeros(len(train_images)),\n",
        "                    batch_size=BATCH_SIZE, \n",
        "                    epochs=EPOCHS, \n",
        "                    validation_data=([valid_images, valid_padded_labels, valid_input_length, valid_label_length], [np.zeros(len(valid_images))]),\n",
        "                    verbose=2,\n",
        "                    callbacks=callbacks_list)"
      ],
      "metadata": {
        "colab": {
          "base_uri": "https://localhost:8080/"
        },
        "id": "wDgcvEF8QHbA",
        "outputId": "734166b2-10a5-4caa-ae5c-71596fe4e645"
      },
      "execution_count": 15,
      "outputs": [
        {
          "output_type": "stream",
          "name": "stdout",
          "text": [
            "Epoch 1/30\n",
            "\n",
            "Epoch 1: val_loss improved from inf to 2.10281, saving model to HTR_Using_CRNN/Model/11_07_2022_084736.hdf5\n",
            "3436/3436 - 115s - loss: 11.5174 - accuracy: 0.1357 - val_loss: 2.1028 - val_accuracy: 0.4193 - 115s/epoch - 34ms/step\n",
            "Epoch 2/30\n",
            "\n",
            "Epoch 2: val_loss improved from 2.10281 to 1.89950, saving model to HTR_Using_CRNN/Model/11_07_2022_084736.hdf5\n",
            "3436/3436 - 92s - loss: 1.2983 - accuracy: 0.5867 - val_loss: 1.8995 - val_accuracy: 0.4671 - 92s/epoch - 27ms/step\n",
            "Epoch 3/30\n",
            "\n",
            "Epoch 3: val_loss improved from 1.89950 to 0.80382, saving model to HTR_Using_CRNN/Model/11_07_2022_084736.hdf5\n",
            "3436/3436 - 92s - loss: 0.7873 - accuracy: 0.7378 - val_loss: 0.8038 - val_accuracy: 0.7627 - 92s/epoch - 27ms/step\n",
            "Epoch 4/30\n",
            "\n",
            "Epoch 4: val_loss improved from 0.80382 to 0.79092, saving model to HTR_Using_CRNN/Model/11_07_2022_084736.hdf5\n",
            "3436/3436 - 91s - loss: 0.5427 - accuracy: 0.8121 - val_loss: 0.7909 - val_accuracy: 0.7784 - 91s/epoch - 27ms/step\n",
            "Epoch 5/30\n",
            "\n",
            "Epoch 5: val_loss improved from 0.79092 to 0.75418, saving model to HTR_Using_CRNN/Model/11_07_2022_084736.hdf5\n",
            "3436/3436 - 92s - loss: 0.4162 - accuracy: 0.8517 - val_loss: 0.7542 - val_accuracy: 0.8206 - 92s/epoch - 27ms/step\n",
            "Epoch 6/30\n",
            "\n",
            "Epoch 6: val_loss improved from 0.75418 to 0.66374, saving model to HTR_Using_CRNN/Model/11_07_2022_084736.hdf5\n",
            "3436/3436 - 96s - loss: 0.3019 - accuracy: 0.8855 - val_loss: 0.6637 - val_accuracy: 0.8360 - 96s/epoch - 28ms/step\n",
            "Epoch 7/30\n",
            "\n",
            "Epoch 7: val_loss did not improve from 0.66374\n",
            "3436/3436 - 92s - loss: 0.2185 - accuracy: 0.9154 - val_loss: 0.9456 - val_accuracy: 0.7856 - 92s/epoch - 27ms/step\n",
            "Epoch 8/30\n",
            "\n",
            "Epoch 8: val_loss improved from 0.66374 to 0.60378, saving model to HTR_Using_CRNN/Model/11_07_2022_084736.hdf5\n",
            "3436/3436 - 96s - loss: 0.1742 - accuracy: 0.9309 - val_loss: 0.6038 - val_accuracy: 0.8579 - 96s/epoch - 28ms/step\n",
            "Epoch 9/30\n",
            "\n",
            "Epoch 9: val_loss improved from 0.60378 to 0.58961, saving model to HTR_Using_CRNN/Model/11_07_2022_084736.hdf5\n",
            "3436/3436 - 94s - loss: 0.1333 - accuracy: 0.9460 - val_loss: 0.5896 - val_accuracy: 0.8615 - 94s/epoch - 27ms/step\n",
            "Epoch 10/30\n",
            "\n",
            "Epoch 10: val_loss improved from 0.58961 to 0.56716, saving model to HTR_Using_CRNN/Model/11_07_2022_084736.hdf5\n",
            "3436/3436 - 103s - loss: 0.1065 - accuracy: 0.9576 - val_loss: 0.5672 - val_accuracy: 0.8858 - 103s/epoch - 30ms/step\n",
            "Epoch 11/30\n",
            "\n",
            "Epoch 11: val_loss did not improve from 0.56716\n",
            "3436/3436 - 93s - loss: 0.0839 - accuracy: 0.9669 - val_loss: 0.6396 - val_accuracy: 0.8740 - 93s/epoch - 27ms/step\n",
            "Epoch 12/30\n",
            "\n",
            "Epoch 12: val_loss did not improve from 0.56716\n",
            "3436/3436 - 104s - loss: 0.0718 - accuracy: 0.9695 - val_loss: 0.6341 - val_accuracy: 0.8789 - 104s/epoch - 30ms/step\n",
            "Epoch 13/30\n",
            "\n",
            "Epoch 13: val_loss did not improve from 0.56716\n",
            "3436/3436 - 94s - loss: 0.0511 - accuracy: 0.9795 - val_loss: 0.6364 - val_accuracy: 0.8809 - 94s/epoch - 27ms/step\n",
            "Epoch 14/30\n",
            "\n",
            "Epoch 14: val_loss did not improve from 0.56716\n",
            "3436/3436 - 97s - loss: 0.0469 - accuracy: 0.9822 - val_loss: 1.0418 - val_accuracy: 0.8134 - 97s/epoch - 28ms/step\n",
            "Epoch 15/30\n",
            "\n",
            "Epoch 15: val_loss did not improve from 0.56716\n",
            "3436/3436 - 91s - loss: 0.0579 - accuracy: 0.9762 - val_loss: 0.7214 - val_accuracy: 0.8753 - 91s/epoch - 27ms/step\n",
            "Epoch 16/30\n",
            "\n",
            "Epoch 16: val_loss did not improve from 0.56716\n",
            "3436/3436 - 91s - loss: 0.0505 - accuracy: 0.9779 - val_loss: 0.7296 - val_accuracy: 0.8632 - 91s/epoch - 27ms/step\n",
            "Epoch 17/30\n",
            "\n",
            "Epoch 17: val_loss did not improve from 0.56716\n",
            "3436/3436 - 91s - loss: 0.0520 - accuracy: 0.9794 - val_loss: 0.6420 - val_accuracy: 0.8907 - 91s/epoch - 27ms/step\n",
            "Epoch 18/30\n",
            "\n",
            "Epoch 18: val_loss did not improve from 0.56716\n",
            "3436/3436 - 92s - loss: 0.0272 - accuracy: 0.9894 - val_loss: 0.6258 - val_accuracy: 0.8900 - 92s/epoch - 27ms/step\n",
            "Epoch 19/30\n",
            "\n",
            "Epoch 19: val_loss did not improve from 0.56716\n",
            "3436/3436 - 92s - loss: 0.0230 - accuracy: 0.9913 - val_loss: 0.6311 - val_accuracy: 0.8992 - 92s/epoch - 27ms/step\n",
            "Epoch 20/30\n",
            "\n",
            "Epoch 20: val_loss did not improve from 0.56716\n",
            "3436/3436 - 92s - loss: 0.0200 - accuracy: 0.9931 - val_loss: 0.6312 - val_accuracy: 0.8982 - 92s/epoch - 27ms/step\n",
            "Epoch 21/30\n",
            "\n",
            "Epoch 21: val_loss did not improve from 0.56716\n",
            "3436/3436 - 92s - loss: 0.0148 - accuracy: 0.9949 - val_loss: 0.7058 - val_accuracy: 0.8782 - 92s/epoch - 27ms/step\n",
            "Epoch 22/30\n",
            "\n",
            "Epoch 22: val_loss did not improve from 0.56716\n",
            "3436/3436 - 92s - loss: 0.0239 - accuracy: 0.9914 - val_loss: 0.6959 - val_accuracy: 0.8825 - 92s/epoch - 27ms/step\n",
            "Epoch 23/30\n",
            "\n",
            "Epoch 23: val_loss did not improve from 0.56716\n",
            "3436/3436 - 90s - loss: 0.0215 - accuracy: 0.9916 - val_loss: 0.6516 - val_accuracy: 0.8989 - 90s/epoch - 26ms/step\n",
            "Epoch 24/30\n",
            "\n",
            "Epoch 24: val_loss did not improve from 0.56716\n",
            "3436/3436 - 92s - loss: 0.0109 - accuracy: 0.9959 - val_loss: 0.6344 - val_accuracy: 0.8992 - 92s/epoch - 27ms/step\n",
            "Epoch 25/30\n",
            "\n",
            "Epoch 25: val_loss did not improve from 0.56716\n",
            "3436/3436 - 92s - loss: 0.0109 - accuracy: 0.9968 - val_loss: 0.6310 - val_accuracy: 0.9025 - 92s/epoch - 27ms/step\n",
            "Epoch 26/30\n",
            "\n",
            "Epoch 26: val_loss did not improve from 0.56716\n",
            "3436/3436 - 92s - loss: 0.0105 - accuracy: 0.9970 - val_loss: 0.6528 - val_accuracy: 0.8962 - 92s/epoch - 27ms/step\n",
            "Epoch 27/30\n",
            "\n",
            "Epoch 27: val_loss did not improve from 0.56716\n",
            "3436/3436 - 91s - loss: 0.0136 - accuracy: 0.9952 - val_loss: 0.7885 - val_accuracy: 0.8694 - 91s/epoch - 27ms/step\n",
            "Epoch 28/30\n",
            "\n",
            "Epoch 28: val_loss did not improve from 0.56716\n",
            "3436/3436 - 105s - loss: 0.0257 - accuracy: 0.9907 - val_loss: 0.7123 - val_accuracy: 0.8812 - 105s/epoch - 31ms/step\n",
            "Epoch 29/30\n",
            "\n",
            "Epoch 29: val_loss did not improve from 0.56716\n",
            "3436/3436 - 93s - loss: 0.0150 - accuracy: 0.9947 - val_loss: 0.6687 - val_accuracy: 0.8939 - 93s/epoch - 27ms/step\n",
            "Epoch 30/30\n",
            "\n",
            "Epoch 30: val_loss did not improve from 0.56716\n",
            "3436/3436 - 96s - loss: 0.0125 - accuracy: 0.9959 - val_loss: 0.6892 - val_accuracy: 0.8923 - 96s/epoch - 28ms/step\n"
          ]
        }
      ]
    },
    {
      "cell_type": "markdown",
      "source": [
        "# Benchmark - Character Error Rate"
      ],
      "metadata": {
        "id": "LkC_cXiiTq0W"
      }
    },
    {
      "cell_type": "code",
      "source": [
        "def levenshtein_distance(s, t):\n",
        "    dp = [[0 for i in range(len(t)+1)] for j in range(len(s)+1)]\n",
        "    \n",
        "    # fill in the border, can only be edits\n",
        "    for i in range(1, len(dp)):\n",
        "        dp[i][0] = i\n",
        "    for j in range(1, len(dp[0])):\n",
        "        dp[0][j] = j\n",
        "    \n",
        "    # s is vertical, t is horizontal\n",
        "    for i in range(1, len(dp)):\n",
        "        for j in range(1, len(dp[i])):\n",
        "            if s[i-1] == t[j-1]:\n",
        "                dp[i][j] = dp[i-1][j-1]\n",
        "            else:\n",
        "                dp[i][j] = 1 + min(dp[i][j-1],        # Insert\n",
        "                                   dp[i-1][j],        # Remove\n",
        "                                   dp[i-1][j-1])      # Replace\n",
        "                                       \n",
        "    return dp[len(s)][len(t)]"
      ],
      "metadata": {
        "id": "EjaAWm51QWYD"
      },
      "execution_count": 20,
      "outputs": []
    },
    {
      "cell_type": "code",
      "source": [
        "ans = levenshtein_distance(\"kitten\", \"sitting\")"
      ],
      "metadata": {
        "id": "xF25t8r1V84_"
      },
      "execution_count": 21,
      "outputs": []
    },
    {
      "cell_type": "code",
      "source": [
        "# predict outputs on validation images\n",
        "act_model.load_weights(filepath)\n",
        "prediction = act_model.predict(valid_images)"
      ],
      "metadata": {
        "colab": {
          "base_uri": "https://localhost:8080/"
        },
        "id": "vJwI_KV0dXlI",
        "outputId": "21d3b2f5-b496-434e-fa84-63f5dfd1ddc2"
      },
      "execution_count": 30,
      "outputs": [
        {
          "output_type": "stream",
          "name": "stdout",
          "text": [
            "96/96 [==============================] - 2s 17ms/step\n"
          ]
        }
      ]
    },
    {
      "cell_type": "code",
      "source": [
        "# use CTC decoder\n",
        "decoded = K.ctc_decode(prediction, \n",
        "                       input_length=np.ones(prediction.shape[0]) * prediction.shape[1],\n",
        "                       greedy=True)[0][0]\n",
        "\n",
        "out = K.get_value(decoded)\n",
        "\n",
        "total_character = 0\n",
        "edit_distance = 0\n",
        "# see the results (the lower CER the better)\n",
        "for i, x in enumerate(out):\n",
        "    original_text = valid_original_text[i]\n",
        "    letters=''    \n",
        "    for p in x:\n",
        "        if int(p) != -1:\n",
        "            letters += CHAR_LIST[int(p)]\n",
        "            total_character += 1\n",
        "\n",
        "    edit_cost = levenshtein_distance(original_text, letters)\n",
        "    edit_distance += edit_cost\n",
        "\n",
        "    if i % 1000 == 0:\n",
        "        print(\"edit distance = \", edit_cost)\n",
        "        print(\"original_text =  \", original_text)\n",
        "        print(\"predicted text = \", end = '')\n",
        "        for p in x:\n",
        "            if int(p) != -1:\n",
        "                print(CHAR_LIST[int(p)], end = '')\n",
        "        plt.imshow(valid_images[i].reshape(32,128), cmap=plt.cm.gray)\n",
        "        plt.show()\n",
        "        print('\\n')"
      ],
      "metadata": {
        "colab": {
          "base_uri": "https://localhost:8080/",
          "height": 860
        },
        "id": "7a3blOglgaMv",
        "outputId": "aa5b2958-5a97-42c3-f40e-459df13f5077"
      },
      "execution_count": 37,
      "outputs": [
        {
          "output_type": "stream",
          "name": "stdout",
          "text": [
            "edit distance =  0\n",
            "original_text =   branniness\n",
            "predicted text = branniness"
          ]
        },
        {
          "output_type": "display_data",
          "data": {
            "text/plain": [
              "<Figure size 432x288 with 1 Axes>"
            ],
            "image/png": "[encoded data removed]"
          },
          "metadata": {
            "needs_background": "light"
          }
        },
        {
          "output_type": "stream",
          "name": "stdout",
          "text": [
            "\n",
            "\n",
            "edit distance =  0\n",
            "original_text =   glycolylurea\n",
            "predicted text = glycolylurea"
          ]
        },
        {
          "output_type": "display_data",
          "data": {
            "text/plain": [
              "<Figure size 432x288 with 1 Axes>"
            ],
            "image/png": "[encoded data removed]"
          },
          "metadata": {
            "needs_background": "light"
          }
        },
        {
          "output_type": "stream",
          "name": "stdout",
          "text": [
            "\n",
            "\n",
            "edit distance =  0\n",
            "original_text =   divulgences\n",
            "predicted text = divulgences"
          ]
        },
        {
          "output_type": "display_data",
          "data": {
            "text/plain": [
              "<Figure size 432x288 with 1 Axes>"
            ],
            "image/png": "[encoded data removed]"
          },
          "metadata": {
            "needs_background": "light"
          }
        },
        {
          "output_type": "stream",
          "name": "stdout",
          "text": [
            "\n",
            "\n",
            "edit distance =  0\n",
            "original_text =   bartramia\n",
            "predicted text = bartramia"
          ]
        },
        {
          "output_type": "display_data",
          "data": {
            "text/plain": [
              "<Figure size 432x288 with 1 Axes>"
            ],
            "image/png": "[encoded data removed]"
          },
          "metadata": {
            "needs_background": "light"
          }
        },
        {
          "output_type": "stream",
          "name": "stdout",
          "text": [
            "\n",
            "\n",
            "CER:  0.012211198223825713\n"
          ]
        }
      ]
    },
    {
      "cell_type": "code",
      "source": [
        "print(\"CER: \", edit_distance/total_character)\n",
        "print(\"Total edits: \", edit_distance)\n",
        "print(\"Total Character: \", total_character)"
      ],
      "metadata": {
        "colab": {
          "base_uri": "https://localhost:8080/"
        },
        "id": "oZ28dRDHgwXG",
        "outputId": "c143794e-e889-4bea-f7ec-c2cc43a5574d"
      },
      "execution_count": 39,
      "outputs": [
        {
          "output_type": "stream",
          "name": "stdout",
          "text": [
            "CER:  0.012211198223825713\n",
            "Total edits:  352\n",
            "Total Character:  28826\n"
          ]
        }
      ]
    },
    {
      "cell_type": "code",
      "source": [
        "y"
      ],
      "metadata": {
        "id": "lSEuhmDvi1Cb"
      },
      "execution_count": null,
      "outputs": []
    }
  ]
}